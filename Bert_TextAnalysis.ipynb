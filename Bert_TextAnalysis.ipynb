{
  "cells": [
    {
      "cell_type": "markdown",
      "metadata": {
        "id": "view-in-github",
        "colab_type": "text"
      },
      "source": [
        "<a href=\"https://colab.research.google.com/github/tehillamo/GitPlayground4/blob/main/Bert_TextAnalysis.ipynb\" target=\"_parent\"><img src=\"https://colab.research.google.com/assets/colab-badge.svg\" alt=\"Open In Colab\"/></a>"
      ]
    },
    {
      "cell_type": "code",
      "execution_count": 8,
      "metadata": {
        "colab": {
          "base_uri": "https://localhost:8080/"
        },
        "id": "olWpKDCrCRmj",
        "outputId": "dbde1837-d9af-4ec5-ec34-3fe32d09b2ae"
      },
      "outputs": [
        {
          "output_type": "stream",
          "name": "stdout",
          "text": [
            "Looking in indexes: https://pypi.org/simple, https://us-python.pkg.dev/colab-wheels/public/simple/\n",
            "Requirement already satisfied: transformers in /usr/local/lib/python3.8/dist-packages (4.25.1)\n",
            "Requirement already satisfied: huggingface-hub<1.0,>=0.10.0 in /usr/local/lib/python3.8/dist-packages (from transformers) (0.11.1)\n",
            "Requirement already satisfied: packaging>=20.0 in /usr/local/lib/python3.8/dist-packages (from transformers) (21.3)\n",
            "Requirement already satisfied: regex!=2019.12.17 in /usr/local/lib/python3.8/dist-packages (from transformers) (2022.6.2)\n",
            "Requirement already satisfied: filelock in /usr/local/lib/python3.8/dist-packages (from transformers) (3.8.2)\n",
            "Requirement already satisfied: requests in /usr/local/lib/python3.8/dist-packages (from transformers) (2.23.0)\n",
            "Requirement already satisfied: pyyaml>=5.1 in /usr/local/lib/python3.8/dist-packages (from transformers) (6.0)\n",
            "Requirement already satisfied: numpy>=1.17 in /usr/local/lib/python3.8/dist-packages (from transformers) (1.21.6)\n",
            "Requirement already satisfied: tqdm>=4.27 in /usr/local/lib/python3.8/dist-packages (from transformers) (4.64.1)\n",
            "Requirement already satisfied: tokenizers!=0.11.3,<0.14,>=0.11.1 in /usr/local/lib/python3.8/dist-packages (from transformers) (0.13.2)\n",
            "Requirement already satisfied: typing-extensions>=3.7.4.3 in /usr/local/lib/python3.8/dist-packages (from huggingface-hub<1.0,>=0.10.0->transformers) (4.4.0)\n",
            "Requirement already satisfied: pyparsing!=3.0.5,>=2.0.2 in /usr/local/lib/python3.8/dist-packages (from packaging>=20.0->transformers) (3.0.9)\n",
            "Requirement already satisfied: urllib3!=1.25.0,!=1.25.1,<1.26,>=1.21.1 in /usr/local/lib/python3.8/dist-packages (from requests->transformers) (1.24.3)\n",
            "Requirement already satisfied: chardet<4,>=3.0.2 in /usr/local/lib/python3.8/dist-packages (from requests->transformers) (3.0.4)\n",
            "Requirement already satisfied: certifi>=2017.4.17 in /usr/local/lib/python3.8/dist-packages (from requests->transformers) (2022.12.7)\n",
            "Requirement already satisfied: idna<3,>=2.5 in /usr/local/lib/python3.8/dist-packages (from requests->transformers) (2.10)\n"
          ]
        }
      ],
      "source": [
        "!pip install transformers"
      ]
    },
    {
      "cell_type": "code",
      "execution_count": 9,
      "metadata": {
        "id": "Fsq5jlxOS_q0"
      },
      "outputs": [],
      "source": [
        "import numpy as np\n",
        "import pandas as pd"
      ]
    },
    {
      "cell_type": "code",
      "execution_count": 10,
      "metadata": {
        "colab": {
          "base_uri": "https://localhost:8080/"
        },
        "id": "gguamJBWC1yl",
        "outputId": "4992ba9e-03f3-4476-c4ee-595206e2fbae"
      },
      "outputs": [
        {
          "output_type": "stream",
          "name": "stderr",
          "text": [
            "No model was supplied, defaulted to distilbert-base-uncased-finetuned-sst-2-english and revision af0f99b (https://huggingface.co/distilbert-base-uncased-finetuned-sst-2-english).\n",
            "Using a pipeline without specifying a model name and revision in production is not recommended.\n"
          ]
        }
      ],
      "source": [
        "from transformers import pipeline\n",
        "classifier = pipeline('sentiment-analysis')"
      ]
    },
    {
      "cell_type": "code",
      "execution_count": null,
      "metadata": {
        "id": "lThUKNOHDaew"
      },
      "outputs": [],
      "source": [
        "sen_1 = 'mostly ignored others information, I had my goal in mind'\n",
        "sen_2 = 'Chose based on the majority but still went mostly with stick'\n"
      ]
    },
    {
      "cell_type": "code",
      "execution_count": null,
      "metadata": {
        "colab": {
          "base_uri": "https://localhost:8080/"
        },
        "id": "DbMCR4XIDpql",
        "outputId": "081ce6c2-fa9e-4609-be6b-0c76ff83559f"
      },
      "outputs": [
        {
          "data": {
            "text/plain": [
              "([{'label': 'NEGATIVE', 'score': 0.9966641068458557}],\n",
              " [{'label': 'NEGATIVE', 'score': 0.6327769756317139}])"
            ]
          },
          "execution_count": 6,
          "metadata": {},
          "output_type": "execute_result"
        }
      ],
      "source": [
        "classifier(sen_1), classifier(sen_2)\n"
      ]
    },
    {
      "cell_type": "code",
      "execution_count": 11,
      "metadata": {
        "id": "qZrV8d68EBPO"
      },
      "outputs": [],
      "source": [
        "from transformers import AutoTokenizer, AutoModelForSequenceClassification, DistilBertForSequenceClassification, DistilBertTokenizer\n",
        "import io\n",
        "from google.colab import files\n",
        "import pandas as pd\n",
        "import numpy as numpy"
      ]
    },
    {
      "cell_type": "markdown",
      "metadata": {
        "id": "ve2YQmm4ay_L"
      },
      "source": [
        "# Defining the Classifier/Pipeline \n",
        "--> fine-tune the BERT model\n",
        "---\n"
      ]
    },
    {
      "cell_type": "markdown",
      "metadata": {
        "id": "pAM_t-VSlUwW"
      },
      "source": [
        "Set the pipeline to classify text "
      ]
    },
    {
      "cell_type": "code",
      "execution_count": 15,
      "metadata": {
        "colab": {
          "base_uri": "https://localhost:8080/"
        },
        "id": "diqRCviybKpp",
        "outputId": "f7525eac-a622-497a-e697-0372efe8cc00"
      },
      "outputs": [
        {
          "output_type": "stream",
          "name": "stderr",
          "text": [
            "No model was supplied, defaulted to facebook/bart-large-mnli and revision c626438 (https://huggingface.co/facebook/bart-large-mnli).\n",
            "Using a pipeline without specifying a model name and revision in production is not recommended.\n"
          ]
        }
      ],
      "source": [
        "classifier_zero_shot = pipeline('zero-shot-classification')"
      ]
    },
    {
      "cell_type": "markdown",
      "metadata": {
        "id": "BgM1EsGclbFj"
      },
      "source": [
        "# Experiment 2 - Uploading & saving Data files"
      ]
    },
    {
      "cell_type": "markdown",
      "metadata": {
        "id": "mYXwtwn3mDdL"
      },
      "source": [
        "Upload the **open question** dataset\n",
        "\n"
      ]
    },
    {
      "cell_type": "code",
      "execution_count": 13,
      "metadata": {
        "colab": {
          "base_uri": "https://localhost:8080/",
          "height": 73
        },
        "id": "NMBHXGB1JBDJ",
        "outputId": "9c803a20-6fc3-4c4c-8582-c3fe0be15980"
      },
      "outputs": [
        {
          "output_type": "display_data",
          "data": {
            "text/plain": [
              "<IPython.core.display.HTML object>"
            ],
            "text/html": [
              "\n",
              "     <input type=\"file\" id=\"files-6314d01a-fa51-4ccc-b790-bdad291a8ef3\" name=\"files[]\" multiple disabled\n",
              "        style=\"border:none\" />\n",
              "     <output id=\"result-6314d01a-fa51-4ccc-b790-bdad291a8ef3\">\n",
              "      Upload widget is only available when the cell has been executed in the\n",
              "      current browser session. Please rerun this cell to enable.\n",
              "      </output>\n",
              "      <script>// Copyright 2017 Google LLC\n",
              "//\n",
              "// Licensed under the Apache License, Version 2.0 (the \"License\");\n",
              "// you may not use this file except in compliance with the License.\n",
              "// You may obtain a copy of the License at\n",
              "//\n",
              "//      http://www.apache.org/licenses/LICENSE-2.0\n",
              "//\n",
              "// Unless required by applicable law or agreed to in writing, software\n",
              "// distributed under the License is distributed on an \"AS IS\" BASIS,\n",
              "// WITHOUT WARRANTIES OR CONDITIONS OF ANY KIND, either express or implied.\n",
              "// See the License for the specific language governing permissions and\n",
              "// limitations under the License.\n",
              "\n",
              "/**\n",
              " * @fileoverview Helpers for google.colab Python module.\n",
              " */\n",
              "(function(scope) {\n",
              "function span(text, styleAttributes = {}) {\n",
              "  const element = document.createElement('span');\n",
              "  element.textContent = text;\n",
              "  for (const key of Object.keys(styleAttributes)) {\n",
              "    element.style[key] = styleAttributes[key];\n",
              "  }\n",
              "  return element;\n",
              "}\n",
              "\n",
              "// Max number of bytes which will be uploaded at a time.\n",
              "const MAX_PAYLOAD_SIZE = 100 * 1024;\n",
              "\n",
              "function _uploadFiles(inputId, outputId) {\n",
              "  const steps = uploadFilesStep(inputId, outputId);\n",
              "  const outputElement = document.getElementById(outputId);\n",
              "  // Cache steps on the outputElement to make it available for the next call\n",
              "  // to uploadFilesContinue from Python.\n",
              "  outputElement.steps = steps;\n",
              "\n",
              "  return _uploadFilesContinue(outputId);\n",
              "}\n",
              "\n",
              "// This is roughly an async generator (not supported in the browser yet),\n",
              "// where there are multiple asynchronous steps and the Python side is going\n",
              "// to poll for completion of each step.\n",
              "// This uses a Promise to block the python side on completion of each step,\n",
              "// then passes the result of the previous step as the input to the next step.\n",
              "function _uploadFilesContinue(outputId) {\n",
              "  const outputElement = document.getElementById(outputId);\n",
              "  const steps = outputElement.steps;\n",
              "\n",
              "  const next = steps.next(outputElement.lastPromiseValue);\n",
              "  return Promise.resolve(next.value.promise).then((value) => {\n",
              "    // Cache the last promise value to make it available to the next\n",
              "    // step of the generator.\n",
              "    outputElement.lastPromiseValue = value;\n",
              "    return next.value.response;\n",
              "  });\n",
              "}\n",
              "\n",
              "/**\n",
              " * Generator function which is called between each async step of the upload\n",
              " * process.\n",
              " * @param {string} inputId Element ID of the input file picker element.\n",
              " * @param {string} outputId Element ID of the output display.\n",
              " * @return {!Iterable<!Object>} Iterable of next steps.\n",
              " */\n",
              "function* uploadFilesStep(inputId, outputId) {\n",
              "  const inputElement = document.getElementById(inputId);\n",
              "  inputElement.disabled = false;\n",
              "\n",
              "  const outputElement = document.getElementById(outputId);\n",
              "  outputElement.innerHTML = '';\n",
              "\n",
              "  const pickedPromise = new Promise((resolve) => {\n",
              "    inputElement.addEventListener('change', (e) => {\n",
              "      resolve(e.target.files);\n",
              "    });\n",
              "  });\n",
              "\n",
              "  const cancel = document.createElement('button');\n",
              "  inputElement.parentElement.appendChild(cancel);\n",
              "  cancel.textContent = 'Cancel upload';\n",
              "  const cancelPromise = new Promise((resolve) => {\n",
              "    cancel.onclick = () => {\n",
              "      resolve(null);\n",
              "    };\n",
              "  });\n",
              "\n",
              "  // Wait for the user to pick the files.\n",
              "  const files = yield {\n",
              "    promise: Promise.race([pickedPromise, cancelPromise]),\n",
              "    response: {\n",
              "      action: 'starting',\n",
              "    }\n",
              "  };\n",
              "\n",
              "  cancel.remove();\n",
              "\n",
              "  // Disable the input element since further picks are not allowed.\n",
              "  inputElement.disabled = true;\n",
              "\n",
              "  if (!files) {\n",
              "    return {\n",
              "      response: {\n",
              "        action: 'complete',\n",
              "      }\n",
              "    };\n",
              "  }\n",
              "\n",
              "  for (const file of files) {\n",
              "    const li = document.createElement('li');\n",
              "    li.append(span(file.name, {fontWeight: 'bold'}));\n",
              "    li.append(span(\n",
              "        `(${file.type || 'n/a'}) - ${file.size} bytes, ` +\n",
              "        `last modified: ${\n",
              "            file.lastModifiedDate ? file.lastModifiedDate.toLocaleDateString() :\n",
              "                                    'n/a'} - `));\n",
              "    const percent = span('0% done');\n",
              "    li.appendChild(percent);\n",
              "\n",
              "    outputElement.appendChild(li);\n",
              "\n",
              "    const fileDataPromise = new Promise((resolve) => {\n",
              "      const reader = new FileReader();\n",
              "      reader.onload = (e) => {\n",
              "        resolve(e.target.result);\n",
              "      };\n",
              "      reader.readAsArrayBuffer(file);\n",
              "    });\n",
              "    // Wait for the data to be ready.\n",
              "    let fileData = yield {\n",
              "      promise: fileDataPromise,\n",
              "      response: {\n",
              "        action: 'continue',\n",
              "      }\n",
              "    };\n",
              "\n",
              "    // Use a chunked sending to avoid message size limits. See b/62115660.\n",
              "    let position = 0;\n",
              "    do {\n",
              "      const length = Math.min(fileData.byteLength - position, MAX_PAYLOAD_SIZE);\n",
              "      const chunk = new Uint8Array(fileData, position, length);\n",
              "      position += length;\n",
              "\n",
              "      const base64 = btoa(String.fromCharCode.apply(null, chunk));\n",
              "      yield {\n",
              "        response: {\n",
              "          action: 'append',\n",
              "          file: file.name,\n",
              "          data: base64,\n",
              "        },\n",
              "      };\n",
              "\n",
              "      let percentDone = fileData.byteLength === 0 ?\n",
              "          100 :\n",
              "          Math.round((position / fileData.byteLength) * 100);\n",
              "      percent.textContent = `${percentDone}% done`;\n",
              "\n",
              "    } while (position < fileData.byteLength);\n",
              "  }\n",
              "\n",
              "  // All done.\n",
              "  yield {\n",
              "    response: {\n",
              "      action: 'complete',\n",
              "    }\n",
              "  };\n",
              "}\n",
              "\n",
              "scope.google = scope.google || {};\n",
              "scope.google.colab = scope.google.colab || {};\n",
              "scope.google.colab._files = {\n",
              "  _uploadFiles,\n",
              "  _uploadFilesContinue,\n",
              "};\n",
              "})(self);\n",
              "</script> "
            ]
          },
          "metadata": {}
        },
        {
          "output_type": "stream",
          "name": "stdout",
          "text": [
            "Saving Exp2_df_open_ques.csv to Exp2_df_open_ques.csv\n"
          ]
        }
      ],
      "source": [
        "uploaded = files.upload()"
      ]
    },
    {
      "cell_type": "code",
      "execution_count": 14,
      "metadata": {
        "id": "ic0RBF4zCuN7"
      },
      "outputs": [],
      "source": [
        "df_exp_2 = pd.read_csv(io.BytesIO(uploaded['Exp2_df_open_ques.csv']))\n",
        "#df_exp_2"
      ]
    },
    {
      "cell_type": "markdown",
      "metadata": {
        "id": "bNwU1YGHm4Kc"
      },
      "source": [
        "Upload the **models estimates** dataset\n"
      ]
    },
    {
      "cell_type": "code",
      "execution_count": 16,
      "metadata": {
        "colab": {
          "base_uri": "https://localhost:8080/",
          "height": 73
        },
        "id": "wAIMJrera1-S",
        "outputId": "99adb753-4980-4afa-e740-67e4c324c57f"
      },
      "outputs": [
        {
          "output_type": "display_data",
          "data": {
            "text/plain": [
              "<IPython.core.display.HTML object>"
            ],
            "text/html": [
              "\n",
              "     <input type=\"file\" id=\"files-24736d32-7bc6-489a-8174-e81f93a097af\" name=\"files[]\" multiple disabled\n",
              "        style=\"border:none\" />\n",
              "     <output id=\"result-24736d32-7bc6-489a-8174-e81f93a097af\">\n",
              "      Upload widget is only available when the cell has been executed in the\n",
              "      current browser session. Please rerun this cell to enable.\n",
              "      </output>\n",
              "      <script>// Copyright 2017 Google LLC\n",
              "//\n",
              "// Licensed under the Apache License, Version 2.0 (the \"License\");\n",
              "// you may not use this file except in compliance with the License.\n",
              "// You may obtain a copy of the License at\n",
              "//\n",
              "//      http://www.apache.org/licenses/LICENSE-2.0\n",
              "//\n",
              "// Unless required by applicable law or agreed to in writing, software\n",
              "// distributed under the License is distributed on an \"AS IS\" BASIS,\n",
              "// WITHOUT WARRANTIES OR CONDITIONS OF ANY KIND, either express or implied.\n",
              "// See the License for the specific language governing permissions and\n",
              "// limitations under the License.\n",
              "\n",
              "/**\n",
              " * @fileoverview Helpers for google.colab Python module.\n",
              " */\n",
              "(function(scope) {\n",
              "function span(text, styleAttributes = {}) {\n",
              "  const element = document.createElement('span');\n",
              "  element.textContent = text;\n",
              "  for (const key of Object.keys(styleAttributes)) {\n",
              "    element.style[key] = styleAttributes[key];\n",
              "  }\n",
              "  return element;\n",
              "}\n",
              "\n",
              "// Max number of bytes which will be uploaded at a time.\n",
              "const MAX_PAYLOAD_SIZE = 100 * 1024;\n",
              "\n",
              "function _uploadFiles(inputId, outputId) {\n",
              "  const steps = uploadFilesStep(inputId, outputId);\n",
              "  const outputElement = document.getElementById(outputId);\n",
              "  // Cache steps on the outputElement to make it available for the next call\n",
              "  // to uploadFilesContinue from Python.\n",
              "  outputElement.steps = steps;\n",
              "\n",
              "  return _uploadFilesContinue(outputId);\n",
              "}\n",
              "\n",
              "// This is roughly an async generator (not supported in the browser yet),\n",
              "// where there are multiple asynchronous steps and the Python side is going\n",
              "// to poll for completion of each step.\n",
              "// This uses a Promise to block the python side on completion of each step,\n",
              "// then passes the result of the previous step as the input to the next step.\n",
              "function _uploadFilesContinue(outputId) {\n",
              "  const outputElement = document.getElementById(outputId);\n",
              "  const steps = outputElement.steps;\n",
              "\n",
              "  const next = steps.next(outputElement.lastPromiseValue);\n",
              "  return Promise.resolve(next.value.promise).then((value) => {\n",
              "    // Cache the last promise value to make it available to the next\n",
              "    // step of the generator.\n",
              "    outputElement.lastPromiseValue = value;\n",
              "    return next.value.response;\n",
              "  });\n",
              "}\n",
              "\n",
              "/**\n",
              " * Generator function which is called between each async step of the upload\n",
              " * process.\n",
              " * @param {string} inputId Element ID of the input file picker element.\n",
              " * @param {string} outputId Element ID of the output display.\n",
              " * @return {!Iterable<!Object>} Iterable of next steps.\n",
              " */\n",
              "function* uploadFilesStep(inputId, outputId) {\n",
              "  const inputElement = document.getElementById(inputId);\n",
              "  inputElement.disabled = false;\n",
              "\n",
              "  const outputElement = document.getElementById(outputId);\n",
              "  outputElement.innerHTML = '';\n",
              "\n",
              "  const pickedPromise = new Promise((resolve) => {\n",
              "    inputElement.addEventListener('change', (e) => {\n",
              "      resolve(e.target.files);\n",
              "    });\n",
              "  });\n",
              "\n",
              "  const cancel = document.createElement('button');\n",
              "  inputElement.parentElement.appendChild(cancel);\n",
              "  cancel.textContent = 'Cancel upload';\n",
              "  const cancelPromise = new Promise((resolve) => {\n",
              "    cancel.onclick = () => {\n",
              "      resolve(null);\n",
              "    };\n",
              "  });\n",
              "\n",
              "  // Wait for the user to pick the files.\n",
              "  const files = yield {\n",
              "    promise: Promise.race([pickedPromise, cancelPromise]),\n",
              "    response: {\n",
              "      action: 'starting',\n",
              "    }\n",
              "  };\n",
              "\n",
              "  cancel.remove();\n",
              "\n",
              "  // Disable the input element since further picks are not allowed.\n",
              "  inputElement.disabled = true;\n",
              "\n",
              "  if (!files) {\n",
              "    return {\n",
              "      response: {\n",
              "        action: 'complete',\n",
              "      }\n",
              "    };\n",
              "  }\n",
              "\n",
              "  for (const file of files) {\n",
              "    const li = document.createElement('li');\n",
              "    li.append(span(file.name, {fontWeight: 'bold'}));\n",
              "    li.append(span(\n",
              "        `(${file.type || 'n/a'}) - ${file.size} bytes, ` +\n",
              "        `last modified: ${\n",
              "            file.lastModifiedDate ? file.lastModifiedDate.toLocaleDateString() :\n",
              "                                    'n/a'} - `));\n",
              "    const percent = span('0% done');\n",
              "    li.appendChild(percent);\n",
              "\n",
              "    outputElement.appendChild(li);\n",
              "\n",
              "    const fileDataPromise = new Promise((resolve) => {\n",
              "      const reader = new FileReader();\n",
              "      reader.onload = (e) => {\n",
              "        resolve(e.target.result);\n",
              "      };\n",
              "      reader.readAsArrayBuffer(file);\n",
              "    });\n",
              "    // Wait for the data to be ready.\n",
              "    let fileData = yield {\n",
              "      promise: fileDataPromise,\n",
              "      response: {\n",
              "        action: 'continue',\n",
              "      }\n",
              "    };\n",
              "\n",
              "    // Use a chunked sending to avoid message size limits. See b/62115660.\n",
              "    let position = 0;\n",
              "    do {\n",
              "      const length = Math.min(fileData.byteLength - position, MAX_PAYLOAD_SIZE);\n",
              "      const chunk = new Uint8Array(fileData, position, length);\n",
              "      position += length;\n",
              "\n",
              "      const base64 = btoa(String.fromCharCode.apply(null, chunk));\n",
              "      yield {\n",
              "        response: {\n",
              "          action: 'append',\n",
              "          file: file.name,\n",
              "          data: base64,\n",
              "        },\n",
              "      };\n",
              "\n",
              "      let percentDone = fileData.byteLength === 0 ?\n",
              "          100 :\n",
              "          Math.round((position / fileData.byteLength) * 100);\n",
              "      percent.textContent = `${percentDone}% done`;\n",
              "\n",
              "    } while (position < fileData.byteLength);\n",
              "  }\n",
              "\n",
              "  // All done.\n",
              "  yield {\n",
              "    response: {\n",
              "      action: 'complete',\n",
              "    }\n",
              "  };\n",
              "}\n",
              "\n",
              "scope.google = scope.google || {};\n",
              "scope.google.colab = scope.google.colab || {};\n",
              "scope.google.colab._files = {\n",
              "  _uploadFiles,\n",
              "  _uploadFilesContinue,\n",
              "};\n",
              "})(self);\n",
              "</script> "
            ]
          },
          "metadata": {}
        },
        {
          "output_type": "stream",
          "name": "stdout",
          "text": [
            "Saving Exp2_indiv_weight_dist_maxlike_10.csv to Exp2_indiv_weight_dist_maxlike_10.csv\n"
          ]
        }
      ],
      "source": [
        "uploaded = files.upload()"
      ]
    },
    {
      "cell_type": "code",
      "execution_count": 17,
      "metadata": {
        "id": "3QJuBUR1a6qA"
      },
      "outputs": [],
      "source": [
        "Exp2_df_weight_resist = pd.read_csv(io.BytesIO(uploaded['Exp2_indiv_weight_dist_maxlike_10.csv']))"
      ]
    },
    {
      "cell_type": "markdown",
      "metadata": {
        "id": "ZVeGfkAvnAWZ"
      },
      "source": [
        "Upload the **behaviour** dataset (for the proportion of risk taking for every individual)\n"
      ]
    },
    {
      "cell_type": "code",
      "execution_count": 18,
      "metadata": {
        "colab": {
          "base_uri": "https://localhost:8080/",
          "height": 73
        },
        "id": "VGdkWRRvE7dw",
        "outputId": "b957716f-68a6-4eb8-ebd6-9ae7733183cd"
      },
      "outputs": [
        {
          "output_type": "display_data",
          "data": {
            "text/plain": [
              "<IPython.core.display.HTML object>"
            ],
            "text/html": [
              "\n",
              "     <input type=\"file\" id=\"files-45a4e33f-3a90-4c34-9aeb-968509c11afd\" name=\"files[]\" multiple disabled\n",
              "        style=\"border:none\" />\n",
              "     <output id=\"result-45a4e33f-3a90-4c34-9aeb-968509c11afd\">\n",
              "      Upload widget is only available when the cell has been executed in the\n",
              "      current browser session. Please rerun this cell to enable.\n",
              "      </output>\n",
              "      <script>// Copyright 2017 Google LLC\n",
              "//\n",
              "// Licensed under the Apache License, Version 2.0 (the \"License\");\n",
              "// you may not use this file except in compliance with the License.\n",
              "// You may obtain a copy of the License at\n",
              "//\n",
              "//      http://www.apache.org/licenses/LICENSE-2.0\n",
              "//\n",
              "// Unless required by applicable law or agreed to in writing, software\n",
              "// distributed under the License is distributed on an \"AS IS\" BASIS,\n",
              "// WITHOUT WARRANTIES OR CONDITIONS OF ANY KIND, either express or implied.\n",
              "// See the License for the specific language governing permissions and\n",
              "// limitations under the License.\n",
              "\n",
              "/**\n",
              " * @fileoverview Helpers for google.colab Python module.\n",
              " */\n",
              "(function(scope) {\n",
              "function span(text, styleAttributes = {}) {\n",
              "  const element = document.createElement('span');\n",
              "  element.textContent = text;\n",
              "  for (const key of Object.keys(styleAttributes)) {\n",
              "    element.style[key] = styleAttributes[key];\n",
              "  }\n",
              "  return element;\n",
              "}\n",
              "\n",
              "// Max number of bytes which will be uploaded at a time.\n",
              "const MAX_PAYLOAD_SIZE = 100 * 1024;\n",
              "\n",
              "function _uploadFiles(inputId, outputId) {\n",
              "  const steps = uploadFilesStep(inputId, outputId);\n",
              "  const outputElement = document.getElementById(outputId);\n",
              "  // Cache steps on the outputElement to make it available for the next call\n",
              "  // to uploadFilesContinue from Python.\n",
              "  outputElement.steps = steps;\n",
              "\n",
              "  return _uploadFilesContinue(outputId);\n",
              "}\n",
              "\n",
              "// This is roughly an async generator (not supported in the browser yet),\n",
              "// where there are multiple asynchronous steps and the Python side is going\n",
              "// to poll for completion of each step.\n",
              "// This uses a Promise to block the python side on completion of each step,\n",
              "// then passes the result of the previous step as the input to the next step.\n",
              "function _uploadFilesContinue(outputId) {\n",
              "  const outputElement = document.getElementById(outputId);\n",
              "  const steps = outputElement.steps;\n",
              "\n",
              "  const next = steps.next(outputElement.lastPromiseValue);\n",
              "  return Promise.resolve(next.value.promise).then((value) => {\n",
              "    // Cache the last promise value to make it available to the next\n",
              "    // step of the generator.\n",
              "    outputElement.lastPromiseValue = value;\n",
              "    return next.value.response;\n",
              "  });\n",
              "}\n",
              "\n",
              "/**\n",
              " * Generator function which is called between each async step of the upload\n",
              " * process.\n",
              " * @param {string} inputId Element ID of the input file picker element.\n",
              " * @param {string} outputId Element ID of the output display.\n",
              " * @return {!Iterable<!Object>} Iterable of next steps.\n",
              " */\n",
              "function* uploadFilesStep(inputId, outputId) {\n",
              "  const inputElement = document.getElementById(inputId);\n",
              "  inputElement.disabled = false;\n",
              "\n",
              "  const outputElement = document.getElementById(outputId);\n",
              "  outputElement.innerHTML = '';\n",
              "\n",
              "  const pickedPromise = new Promise((resolve) => {\n",
              "    inputElement.addEventListener('change', (e) => {\n",
              "      resolve(e.target.files);\n",
              "    });\n",
              "  });\n",
              "\n",
              "  const cancel = document.createElement('button');\n",
              "  inputElement.parentElement.appendChild(cancel);\n",
              "  cancel.textContent = 'Cancel upload';\n",
              "  const cancelPromise = new Promise((resolve) => {\n",
              "    cancel.onclick = () => {\n",
              "      resolve(null);\n",
              "    };\n",
              "  });\n",
              "\n",
              "  // Wait for the user to pick the files.\n",
              "  const files = yield {\n",
              "    promise: Promise.race([pickedPromise, cancelPromise]),\n",
              "    response: {\n",
              "      action: 'starting',\n",
              "    }\n",
              "  };\n",
              "\n",
              "  cancel.remove();\n",
              "\n",
              "  // Disable the input element since further picks are not allowed.\n",
              "  inputElement.disabled = true;\n",
              "\n",
              "  if (!files) {\n",
              "    return {\n",
              "      response: {\n",
              "        action: 'complete',\n",
              "      }\n",
              "    };\n",
              "  }\n",
              "\n",
              "  for (const file of files) {\n",
              "    const li = document.createElement('li');\n",
              "    li.append(span(file.name, {fontWeight: 'bold'}));\n",
              "    li.append(span(\n",
              "        `(${file.type || 'n/a'}) - ${file.size} bytes, ` +\n",
              "        `last modified: ${\n",
              "            file.lastModifiedDate ? file.lastModifiedDate.toLocaleDateString() :\n",
              "                                    'n/a'} - `));\n",
              "    const percent = span('0% done');\n",
              "    li.appendChild(percent);\n",
              "\n",
              "    outputElement.appendChild(li);\n",
              "\n",
              "    const fileDataPromise = new Promise((resolve) => {\n",
              "      const reader = new FileReader();\n",
              "      reader.onload = (e) => {\n",
              "        resolve(e.target.result);\n",
              "      };\n",
              "      reader.readAsArrayBuffer(file);\n",
              "    });\n",
              "    // Wait for the data to be ready.\n",
              "    let fileData = yield {\n",
              "      promise: fileDataPromise,\n",
              "      response: {\n",
              "        action: 'continue',\n",
              "      }\n",
              "    };\n",
              "\n",
              "    // Use a chunked sending to avoid message size limits. See b/62115660.\n",
              "    let position = 0;\n",
              "    do {\n",
              "      const length = Math.min(fileData.byteLength - position, MAX_PAYLOAD_SIZE);\n",
              "      const chunk = new Uint8Array(fileData, position, length);\n",
              "      position += length;\n",
              "\n",
              "      const base64 = btoa(String.fromCharCode.apply(null, chunk));\n",
              "      yield {\n",
              "        response: {\n",
              "          action: 'append',\n",
              "          file: file.name,\n",
              "          data: base64,\n",
              "        },\n",
              "      };\n",
              "\n",
              "      let percentDone = fileData.byteLength === 0 ?\n",
              "          100 :\n",
              "          Math.round((position / fileData.byteLength) * 100);\n",
              "      percent.textContent = `${percentDone}% done`;\n",
              "\n",
              "    } while (position < fileData.byteLength);\n",
              "  }\n",
              "\n",
              "  // All done.\n",
              "  yield {\n",
              "    response: {\n",
              "      action: 'complete',\n",
              "    }\n",
              "  };\n",
              "}\n",
              "\n",
              "scope.google = scope.google || {};\n",
              "scope.google.colab = scope.google.colab || {};\n",
              "scope.google.colab._files = {\n",
              "  _uploadFiles,\n",
              "  _uploadFilesContinue,\n",
              "};\n",
              "})(self);\n",
              "</script> "
            ]
          },
          "metadata": {}
        },
        {
          "output_type": "stream",
          "name": "stdout",
          "text": [
            "Saving Exp2_data_behaviour.csv to Exp2_data_behaviour.csv\n"
          ]
        }
      ],
      "source": [
        "uploaded = files.upload()"
      ]
    },
    {
      "cell_type": "code",
      "execution_count": 19,
      "metadata": {
        "id": "NUBTVAo6E-8B"
      },
      "outputs": [],
      "source": [
        "Exp2_df_behaviour = pd.read_csv(io.BytesIO(uploaded['Exp2_data_behaviour.csv']))"
      ]
    },
    {
      "cell_type": "markdown",
      "metadata": {
        "id": "crB51AuxnLjh"
      },
      "source": [
        "Saving the open questions for: \n",
        "\n",
        "\n",
        "1.   Saving the open question for **Q1** (about the **solo** condition) \n",
        "2.   Saving the open question for **Q2** (about the **social** condition) \n"
      ]
    },
    {
      "cell_type": "code",
      "execution_count": 20,
      "metadata": {
        "id": "Qi5s39vFJLD-"
      },
      "outputs": [],
      "source": [
        "Exp2_df_q2 = df_exp_2['Q2']\n",
        "Exp2_df_q1 = df_exp_2['Q1']"
      ]
    },
    {
      "cell_type": "markdown",
      "metadata": {
        "id": "iQNCtcvjyr9P"
      },
      "source": [
        "# Identification of ***Super Describers***"
      ]
    },
    {
      "cell_type": "markdown",
      "metadata": {
        "id": "mllPJlr_S96W"
      },
      "source": [
        "> **Question 1 - Solo Condition.**\n",
        "\n",
        "Looking at the responses in the solo condition. Here we are trying to classify who are the participants that have a good ability to describe their strategy that will allow us to map onto their behvaiour. "
      ]
    },
    {
      "cell_type": "markdown",
      "metadata": {
        "id": "QLipxDlwn282"
      },
      "source": [
        "\n",
        "\n",
        "1.   Creating an empty dictionary to store all model predictions.\n",
        "\n",
        "> 1.1. sequences = the free text participants provided for Q1. \n",
        "\n",
        "> 1.2. candidate_labels = a list of all the possible labels we used to classify possible strategies for Q1 (risk taking, risk aversion). "
      ]
    },
    {
      "cell_type": "code",
      "execution_count": 21,
      "metadata": {
        "id": "TR4H5s5tRrG4"
      },
      "outputs": [],
      "source": [
        "Exp2_Q1_class_out_zero_shot = dict()\n",
        "for i in range(40):\n",
        "  Exp2_Q1_class_out_zero_shot[i] = classifier_zero_shot(\n",
        "    sequences = Exp2_df_q1[i],\n",
        "    candidate_labels = [\"chose jar A\", \"chose jar B\",\n",
        "                        \"stick to jar A\", \"stick to jar B\", \"riskier higher reward\", \n",
        "                        #\"more white balls\", \" more black balls\", \n",
        "                        \"higher value\", \"get 14\",\"higher chance to get reward\", \"greater bonus\", \"get 6\",\n",
        "                        \"higher chance to get black ball\", \"higher chance to get white ball\",\n",
        "                        \"jar with the most black\", \"higher odds of success\",\n",
        "                        \"stick\", \"go for £14 bonus\",\n",
        "                        \"how many black and white balls\",\n",
        "                        \"correct\", \"gut feeling\", \"intuition\", #no strategy                         \n",
        "                        ],\n",
        "    #candidate_labels = [\"use\", \"did not use\"],\n",
        "    multi_label = True)"
      ]
    },
    {
      "cell_type": "markdown",
      "metadata": {
        "id": "VNJUmMsDo3Fi"
      },
      "source": [
        "\n",
        "\n",
        "2. Storing the output from BERT classifier \n",
        "\n",
        "\n",
        "> 2.1. lables = Saving the best predictive label for the sentences given by participants\n",
        "\n",
        "> 2.2. scores = the prediction score for the best label \n",
        "> 2.3. ids = participants' ID\n",
        "\n",
        "\n",
        "\n",
        "\n",
        "\n",
        "\n"
      ]
    },
    {
      "cell_type": "code",
      "execution_count": 22,
      "metadata": {
        "id": "59_CoVIdS7hk"
      },
      "outputs": [],
      "source": [
        "lables = []\n",
        "scores = []\n",
        "ids = []\n",
        "sentences = []\n",
        "for i in range(40):\n",
        "    id = df_exp_2['id'][i]\n",
        "    lable = Exp2_Q1_class_out_zero_shot[i]['labels'][0]\n",
        "    score = Exp2_Q1_class_out_zero_shot[i]['scores'][0]\n",
        "    sentence = Exp2_Q1_class_out_zero_shot[i]['sequence']\n",
        "    ids.append(id)\n",
        "    lables.append(lable)\n",
        "    scores.append(score)\n",
        "    sentences.append(sentence)\n",
        "\n",
        "# converting lists to arrays    \n",
        "scores = np.array(scores)\n",
        "sentences = np.array(sentences)\n",
        "lables = np.array(lables)\n",
        "# creating a dataset consisting of 1) IDs, 2) free text, 3) best labels 4)their scores \n",
        "Exp2_Q1_scores_and_lables = numpy.column_stack([df_exp_2['id'], sentences, lables, scores])\n",
        "Exp2_Q1_scores_and_lables =  pd.DataFrame(Exp2_Q1_scores_and_lables, columns = ['id','sentence', 'Lable', 'Score'])\n",
        "Exp2_Q1_scores_and_lables['id'] = Exp2_Q1_scores_and_lables['id'].astype(float)\n",
        "Exp2_Q1_scores_and_lables['Score'] = Exp2_Q1_scores_and_lables['Score'].astype(float)\n",
        "\n",
        "# adding the original behavioural data to the output from the model \n",
        "Exp2_df_behaviour['id'] = Exp2_df_behaviour['id'].astype(float)\n",
        "\n",
        "ind = np.array(Exp2_Q1_scores_and_lables.index)\n",
        "ind = np.array(ind)[0:]\n",
        "ind\n",
        "Exp2_df_behaviour_sub = Exp2_df_behaviour.loc[ind]\n",
        "\n",
        "Exp2_q1_all = numpy.column_stack([Exp2_df_behaviour_sub['id'], \n",
        "                                  Exp2_df_behaviour_sub['meanSolo'], \n",
        "                                  Exp2_Q1_scores_and_lables['id'],\n",
        "                                  Exp2_Q1_scores_and_lables['sentence'],\n",
        "                                  Exp2_Q1_scores_and_lables['Score'], \n",
        "                                  Exp2_Q1_scores_and_lables['Lable']])\n",
        "\n",
        "Exp2_q1_all = pd.DataFrame(Exp2_q1_all, columns = ['id_behaviour','meanRiskSolo', 'id_text', 'sentence', 'Score', 'Label'])\n"
      ]
    },
    {
      "cell_type": "code",
      "execution_count": null,
      "metadata": {
        "id": "pQYCkpP9WGn6"
      },
      "outputs": [],
      "source": [
        "# subj_judg = [\"none\", \"most black:risk averse\", \"num of black balls:none\", \"num of black balls:none\",\n",
        "#              \"correct:none\", \"higher odds of success:risk averse\", \"confidence:none\", \"chance of white balls:risk seeking\",\n",
        "#              \"according to grid:none\", \"stick to B:risk averse\", \"choose to B:risk averse\", \"just stick:none\", \"better chance of rewards:risk averse\",\n",
        "#              \"went for 14: risk seeking\", \"go with higher value:risk seeking\", \"which jar it came from:none\", \"random, gut feeling:none\", \n",
        "#              \"num of black balls:none\", \"guess which jar:none\", \"how many white balls:risk seeking?\", \"secure the biggest bonus:risk seeking\",\n",
        "#              \"best chance of black ball:risk averse\", \"I always tried to draw a ball from urn 1:risk seeking\", \"intuition:none\", \"sticking even on Jar A because the potential prize was bigger:risk seeking\",\n",
        "#             \"choose from Jar B:risk averse\",\"get the 14 ball:risk seeking\", \"always wanted 14: risk seeking\", \"weighted each colour:none\", \"gut feeling\", \"number of each colour:none\",\n",
        "#              \"greater chance of obtaining a reward, 6: risk averse\", \"number of each colour:none\", \"none\", \"based on amount in each jar:none\", \"weighted each colour:none\",\n",
        "#              \"compare how many black:none\", \"looking at the picks:none\", \"based on greater chance of the black ball coming from pot B:risk averse\", \"whichever had the best odds\"]\n",
        "# Exp2_Q1_scores_and_lables['subj_text_analysis'] = subj_judg\n",
        "\n",
        "#Exp2_Q1_scores_and_lables = Exp2_Q1_scores_and_lables[Exp2_Q1_scores_and_lables['Score']>.7]\n"
      ]
    },
    {
      "cell_type": "code",
      "execution_count": null,
      "metadata": {
        "id": "AlqEJDHcCH6W"
      },
      "outputs": [],
      "source": [
        "#Exp2_q1_all = Exp2_q1_all[(Exp2_q1_all['id_text'] != 13987.0 ) & (Exp2_q1_all['id_text'] != 49865.0) & (Exp2_q1_all['id_text'] != 50625.0) & (Exp2_q1_all['id_text'] != 57379.0) & (Exp2_q1_all['id_text'] != 57478.0) & (Exp2_q1_all['id_text'] != 70064.0) & (Exp2_q1_all['id_text'] != 83549.0) & (Exp2_q1_all['id_text'] != 89063.0) & (Exp2_q1_all['id_text'] != 93818.0) & (Exp2_q1_all['id_text'] != 98074.0)]"
      ]
    },
    {
      "cell_type": "markdown",
      "metadata": {
        "id": "uHaKe1bGr6MB"
      },
      "source": [
        "3.*Exclusion*"
      ]
    },
    {
      "cell_type": "code",
      "execution_count": 23,
      "metadata": {
        "colab": {
          "base_uri": "https://localhost:8080/"
        },
        "id": "1QL9E-A0C4Tu",
        "outputId": "d363ffab-7488-4f5d-8b69-7a39a74844b0"
      },
      "outputs": [
        {
          "output_type": "execute_result",
          "data": {
            "text/plain": [
              "40"
            ]
          },
          "metadata": {},
          "execution_count": 23
        }
      ],
      "source": [
        "# initial sample size = 40\n",
        "len(Exp2_q1_all['Score'])"
      ]
    },
    {
      "cell_type": "markdown",
      "metadata": {
        "id": "-xh3RmlFrMES"
      },
      "source": [
        "> 3.1. **Step 1** - exclusion of strategies that cannot be identified as meaningful (that can explain any behvaiour comparable to the model. For example, 'corretc' or 'by how many black and white balls' )\n",
        "\n",
        "\n",
        "\n",
        "\n"
      ]
    },
    {
      "cell_type": "code",
      "execution_count": 24,
      "metadata": {
        "id": "RGjcIgjhcWYQ"
      },
      "outputs": [],
      "source": [
        "from pandas.tseries.frequencies import unique\n",
        "Exp2_q1_all = Exp2_q1_all[Exp2_q1_all['Label'] != \"correct\"] # resulted in exclusion of 4 indivisuals \n",
        "Exp2_q1_all = Exp2_q1_all[Exp2_q1_all['Label'] !=  \"how many black and white balls\"] # resulted in exclusion of 5 indivisuals \n"
      ]
    },
    {
      "cell_type": "code",
      "execution_count": 25,
      "metadata": {
        "colab": {
          "base_uri": "https://localhost:8080/"
        },
        "id": "v3qc0aGisfTq",
        "outputId": "8f7072cf-1f2d-4b8b-ee4d-d0f3354cbef7"
      },
      "outputs": [
        {
          "output_type": "execute_result",
          "data": {
            "text/plain": [
              "31"
            ]
          },
          "metadata": {},
          "execution_count": 25
        }
      ],
      "source": [
        "# Step 1 -> sample size = 31\n",
        "len(Exp2_q1_all['Score'])"
      ]
    },
    {
      "cell_type": "code",
      "execution_count": 26,
      "metadata": {
        "colab": {
          "base_uri": "https://localhost:8080/"
        },
        "id": "1JksR--Ssi26",
        "outputId": "49160fb9-0a4d-4bda-c675-ee27b9557e57"
      },
      "outputs": [
        {
          "output_type": "execute_result",
          "data": {
            "text/plain": [
              "array(['jar with the most black', 'higher chance to get reward',\n",
              "       'higher chance to get white ball', 'stick to jar B',\n",
              "       'higher chance to get black ball', 'greater bonus', 'higher value',\n",
              "       'intuition', 'gut feeling', 'riskier higher reward',\n",
              "       'go for £14 bonus', 'stick', 'get 6', 'higher odds of success'],\n",
              "      dtype=object)"
            ]
          },
          "metadata": {},
          "execution_count": 26
        }
      ],
      "source": [
        "#unique labels \n",
        "unique(Exp2_q1_all['Label'])"
      ]
    },
    {
      "cell_type": "markdown",
      "metadata": {
        "id": "LwpKOgsMsvZ2"
      },
      "source": [
        "Assign **risk preferences** to the different lables. For example: 'jar with the most black' meant that the individual was aiming to chose from the jar with most black balls (i.e., the safer jar) and hence will be classified as risk averse. "
      ]
    },
    {
      "cell_type": "code",
      "execution_count": 27,
      "metadata": {
        "id": "PUaXuir9cWvQ"
      },
      "outputs": [],
      "source": [
        "ind = np.array(Exp2_q1_all.index)\n",
        "ind = np.array(ind)[0:]\n",
        "\n",
        "classes_risk_from_text = list()\n",
        "\n",
        "for i in ind:\n",
        "  if(Exp2_q1_all['Label'][i] == 'jar with the most black' or Exp2_q1_all['Label'][i] == 'stick to jar B' or Exp2_q1_all['Label'][i] == 'higher chance to get black ball' or Exp2_q1_all['Label'][i] == 'higher odds of success' or Exp2_q1_all['Label'][i] == \"get 6\"):\n",
        "      classes_risk_from_text.append(\"risk averse\")\n",
        "      Exp2_q1_all['Score'][i] = 1- Exp2_q1_all['Score'][i]\n",
        "  if (Exp2_q1_all['Label'][i] == 'riskier higher reward' or Exp2_q1_all['Label'][i] == 'greater bonus' or Exp2_q1_all['Label'][i] == 'higher chance to get reward' or Exp2_q1_all['Label'][i] == 'higher chance to get white ball' or Exp2_q1_all['Label'][i] == 'higher value' or Exp2_q1_all['Label'][i] == 'get 14' or Exp2_q1_all['Label'][i] == \"go for £14 bonus\"):\n",
        "      classes_risk_from_text.append(\"risk seeking\")\n",
        "  if (Exp2_q1_all['Label'][i] == \"gut feeling\" or Exp2_q1_all['Label'][i] == \"intuition\" or Exp2_q1_all['Label'][i] == \"stick\"):\n",
        "      classes_risk_from_text.append(\"none\")\n",
        "\n",
        "#creating a new column that includes the new classification \n",
        "Exp2_q1_all['newcol'] = classes_risk_from_text"
      ]
    },
    {
      "cell_type": "markdown",
      "metadata": {
        "id": "286ASAIQuKDl"
      },
      "source": [
        "> 3.2. **Step 2** - \n",
        "Inclusion of individuals according to their quality in description. \n",
        "\n",
        "- If individuals that were classified with a lable that describes a 'risk averse' and indeed took risk less than .5 are included \n",
        "- If individuals that were classified with a lable that describes a 'risk seeking' and indeed took risk more than .5 are included \n",
        "-  If individuals that were classified with a lable that describes a 'none' and indeed took risk around .5 are included. "
      ]
    },
    {
      "cell_type": "code",
      "execution_count": null,
      "metadata": {
        "id": "jC0k-iCCGI0Q"
      },
      "outputs": [],
      "source": [
        "#Exp2_q1_all = Exp2_q1_all[Exp2_q1_all['newcol'] != \"none\"]"
      ]
    },
    {
      "cell_type": "code",
      "execution_count": 28,
      "metadata": {
        "id": "pXcPtsbHN49F"
      },
      "outputs": [],
      "source": [
        "Exp2_q1_all_sub = Exp2_q1_all[(Exp2_q1_all['newcol'] == \"risk averse\") & (Exp2_q1_all['meanRiskSolo'] < .5) | (Exp2_q1_all['newcol'] == \"risk seeking\") & (Exp2_q1_all['meanRiskSolo'] > .5) | (Exp2_q1_all['newcol'] == \"none\") & ((Exp2_q1_all['meanRiskSolo'] <= .55) & (Exp2_q1_all['meanRiskSolo'] > .45))]\n"
      ]
    },
    {
      "cell_type": "code",
      "execution_count": 29,
      "metadata": {
        "id": "6c6kyCKIw3lk",
        "colab": {
          "base_uri": "https://localhost:8080/"
        },
        "outputId": "d13f0356-41d6-42af-c134-ad323c6e9d55"
      },
      "outputs": [
        {
          "output_type": "execute_result",
          "data": {
            "text/plain": [
              "19"
            ]
          },
          "metadata": {},
          "execution_count": 29
        }
      ],
      "source": [
        "# Step 2 -> sample size = 19 ('super' descibers)\n",
        "len(Exp2_q1_all_sub['Label'])"
      ]
    },
    {
      "cell_type": "code",
      "execution_count": 30,
      "metadata": {
        "id": "IOwXY1WWevlR",
        "colab": {
          "base_uri": "https://localhost:8080/"
        },
        "outputId": "01403b49-7f1d-4b19-c2bc-df68e222ec50"
      },
      "outputs": [
        {
          "output_type": "execute_result",
          "data": {
            "text/plain": [
              "Int64Index([1, 5, 9, 10, 11, 13, 14, 18, 21, 22, 23, 25, 26, 27, 29, 35, 36,\n",
              "            38, 39],\n",
              "           dtype='int64')"
            ]
          },
          "metadata": {},
          "execution_count": 30
        }
      ],
      "source": [
        "# the row names for the included individuals \n",
        "Exp2_q1_all_sub.index # 1, 5, 9, 10, 11, 13, 14, 18, 21, 22, 23, 25, 26, 27, 29, 35, 36, 38, 39"
      ]
    },
    {
      "cell_type": "markdown",
      "metadata": {
        "id": "eU8_gYFzrZmK"
      },
      "source": [
        "# Experiment 3 - Uploading & saving Data files\n"
      ]
    },
    {
      "cell_type": "markdown",
      "metadata": {
        "id": "yN_enoYbx5D6"
      },
      "source": [
        "Upload the **open question** dataset"
      ]
    },
    {
      "cell_type": "code",
      "execution_count": 31,
      "metadata": {
        "colab": {
          "base_uri": "https://localhost:8080/",
          "height": 73
        },
        "id": "p8sM_-sbrfAZ",
        "outputId": "b1fd5205-91a3-48a1-d2dc-2dc77ddef814"
      },
      "outputs": [
        {
          "output_type": "display_data",
          "data": {
            "text/plain": [
              "<IPython.core.display.HTML object>"
            ],
            "text/html": [
              "\n",
              "     <input type=\"file\" id=\"files-4d311f5b-797b-4905-a9cc-9a55a292f202\" name=\"files[]\" multiple disabled\n",
              "        style=\"border:none\" />\n",
              "     <output id=\"result-4d311f5b-797b-4905-a9cc-9a55a292f202\">\n",
              "      Upload widget is only available when the cell has been executed in the\n",
              "      current browser session. Please rerun this cell to enable.\n",
              "      </output>\n",
              "      <script>// Copyright 2017 Google LLC\n",
              "//\n",
              "// Licensed under the Apache License, Version 2.0 (the \"License\");\n",
              "// you may not use this file except in compliance with the License.\n",
              "// You may obtain a copy of the License at\n",
              "//\n",
              "//      http://www.apache.org/licenses/LICENSE-2.0\n",
              "//\n",
              "// Unless required by applicable law or agreed to in writing, software\n",
              "// distributed under the License is distributed on an \"AS IS\" BASIS,\n",
              "// WITHOUT WARRANTIES OR CONDITIONS OF ANY KIND, either express or implied.\n",
              "// See the License for the specific language governing permissions and\n",
              "// limitations under the License.\n",
              "\n",
              "/**\n",
              " * @fileoverview Helpers for google.colab Python module.\n",
              " */\n",
              "(function(scope) {\n",
              "function span(text, styleAttributes = {}) {\n",
              "  const element = document.createElement('span');\n",
              "  element.textContent = text;\n",
              "  for (const key of Object.keys(styleAttributes)) {\n",
              "    element.style[key] = styleAttributes[key];\n",
              "  }\n",
              "  return element;\n",
              "}\n",
              "\n",
              "// Max number of bytes which will be uploaded at a time.\n",
              "const MAX_PAYLOAD_SIZE = 100 * 1024;\n",
              "\n",
              "function _uploadFiles(inputId, outputId) {\n",
              "  const steps = uploadFilesStep(inputId, outputId);\n",
              "  const outputElement = document.getElementById(outputId);\n",
              "  // Cache steps on the outputElement to make it available for the next call\n",
              "  // to uploadFilesContinue from Python.\n",
              "  outputElement.steps = steps;\n",
              "\n",
              "  return _uploadFilesContinue(outputId);\n",
              "}\n",
              "\n",
              "// This is roughly an async generator (not supported in the browser yet),\n",
              "// where there are multiple asynchronous steps and the Python side is going\n",
              "// to poll for completion of each step.\n",
              "// This uses a Promise to block the python side on completion of each step,\n",
              "// then passes the result of the previous step as the input to the next step.\n",
              "function _uploadFilesContinue(outputId) {\n",
              "  const outputElement = document.getElementById(outputId);\n",
              "  const steps = outputElement.steps;\n",
              "\n",
              "  const next = steps.next(outputElement.lastPromiseValue);\n",
              "  return Promise.resolve(next.value.promise).then((value) => {\n",
              "    // Cache the last promise value to make it available to the next\n",
              "    // step of the generator.\n",
              "    outputElement.lastPromiseValue = value;\n",
              "    return next.value.response;\n",
              "  });\n",
              "}\n",
              "\n",
              "/**\n",
              " * Generator function which is called between each async step of the upload\n",
              " * process.\n",
              " * @param {string} inputId Element ID of the input file picker element.\n",
              " * @param {string} outputId Element ID of the output display.\n",
              " * @return {!Iterable<!Object>} Iterable of next steps.\n",
              " */\n",
              "function* uploadFilesStep(inputId, outputId) {\n",
              "  const inputElement = document.getElementById(inputId);\n",
              "  inputElement.disabled = false;\n",
              "\n",
              "  const outputElement = document.getElementById(outputId);\n",
              "  outputElement.innerHTML = '';\n",
              "\n",
              "  const pickedPromise = new Promise((resolve) => {\n",
              "    inputElement.addEventListener('change', (e) => {\n",
              "      resolve(e.target.files);\n",
              "    });\n",
              "  });\n",
              "\n",
              "  const cancel = document.createElement('button');\n",
              "  inputElement.parentElement.appendChild(cancel);\n",
              "  cancel.textContent = 'Cancel upload';\n",
              "  const cancelPromise = new Promise((resolve) => {\n",
              "    cancel.onclick = () => {\n",
              "      resolve(null);\n",
              "    };\n",
              "  });\n",
              "\n",
              "  // Wait for the user to pick the files.\n",
              "  const files = yield {\n",
              "    promise: Promise.race([pickedPromise, cancelPromise]),\n",
              "    response: {\n",
              "      action: 'starting',\n",
              "    }\n",
              "  };\n",
              "\n",
              "  cancel.remove();\n",
              "\n",
              "  // Disable the input element since further picks are not allowed.\n",
              "  inputElement.disabled = true;\n",
              "\n",
              "  if (!files) {\n",
              "    return {\n",
              "      response: {\n",
              "        action: 'complete',\n",
              "      }\n",
              "    };\n",
              "  }\n",
              "\n",
              "  for (const file of files) {\n",
              "    const li = document.createElement('li');\n",
              "    li.append(span(file.name, {fontWeight: 'bold'}));\n",
              "    li.append(span(\n",
              "        `(${file.type || 'n/a'}) - ${file.size} bytes, ` +\n",
              "        `last modified: ${\n",
              "            file.lastModifiedDate ? file.lastModifiedDate.toLocaleDateString() :\n",
              "                                    'n/a'} - `));\n",
              "    const percent = span('0% done');\n",
              "    li.appendChild(percent);\n",
              "\n",
              "    outputElement.appendChild(li);\n",
              "\n",
              "    const fileDataPromise = new Promise((resolve) => {\n",
              "      const reader = new FileReader();\n",
              "      reader.onload = (e) => {\n",
              "        resolve(e.target.result);\n",
              "      };\n",
              "      reader.readAsArrayBuffer(file);\n",
              "    });\n",
              "    // Wait for the data to be ready.\n",
              "    let fileData = yield {\n",
              "      promise: fileDataPromise,\n",
              "      response: {\n",
              "        action: 'continue',\n",
              "      }\n",
              "    };\n",
              "\n",
              "    // Use a chunked sending to avoid message size limits. See b/62115660.\n",
              "    let position = 0;\n",
              "    do {\n",
              "      const length = Math.min(fileData.byteLength - position, MAX_PAYLOAD_SIZE);\n",
              "      const chunk = new Uint8Array(fileData, position, length);\n",
              "      position += length;\n",
              "\n",
              "      const base64 = btoa(String.fromCharCode.apply(null, chunk));\n",
              "      yield {\n",
              "        response: {\n",
              "          action: 'append',\n",
              "          file: file.name,\n",
              "          data: base64,\n",
              "        },\n",
              "      };\n",
              "\n",
              "      let percentDone = fileData.byteLength === 0 ?\n",
              "          100 :\n",
              "          Math.round((position / fileData.byteLength) * 100);\n",
              "      percent.textContent = `${percentDone}% done`;\n",
              "\n",
              "    } while (position < fileData.byteLength);\n",
              "  }\n",
              "\n",
              "  // All done.\n",
              "  yield {\n",
              "    response: {\n",
              "      action: 'complete',\n",
              "    }\n",
              "  };\n",
              "}\n",
              "\n",
              "scope.google = scope.google || {};\n",
              "scope.google.colab = scope.google.colab || {};\n",
              "scope.google.colab._files = {\n",
              "  _uploadFiles,\n",
              "  _uploadFilesContinue,\n",
              "};\n",
              "})(self);\n",
              "</script> "
            ]
          },
          "metadata": {}
        },
        {
          "output_type": "stream",
          "name": "stdout",
          "text": [
            "Saving Exp3_df_open_ques.csv to Exp3_df_open_ques.csv\n"
          ]
        }
      ],
      "source": [
        "uploaded = files.upload()"
      ]
    },
    {
      "cell_type": "code",
      "execution_count": 32,
      "metadata": {
        "id": "WtBoHi0krks-"
      },
      "outputs": [],
      "source": [
        "df_exp_3 = pd.read_csv(io.BytesIO(uploaded['Exp3_df_open_ques.csv']))\n"
      ]
    },
    {
      "cell_type": "markdown",
      "metadata": {
        "id": "VplsGFR7x_R1"
      },
      "source": [
        "Upload the **model estimates** dataset\n"
      ]
    },
    {
      "cell_type": "code",
      "execution_count": 33,
      "metadata": {
        "colab": {
          "base_uri": "https://localhost:8080/",
          "height": 73
        },
        "id": "P3l859g_ribw",
        "outputId": "652b6c6b-f9ca-4648-babc-c02f99b8dd05"
      },
      "outputs": [
        {
          "output_type": "display_data",
          "data": {
            "text/plain": [
              "<IPython.core.display.HTML object>"
            ],
            "text/html": [
              "\n",
              "     <input type=\"file\" id=\"files-cb41a9b5-3807-4b31-9b54-a41d5137e787\" name=\"files[]\" multiple disabled\n",
              "        style=\"border:none\" />\n",
              "     <output id=\"result-cb41a9b5-3807-4b31-9b54-a41d5137e787\">\n",
              "      Upload widget is only available when the cell has been executed in the\n",
              "      current browser session. Please rerun this cell to enable.\n",
              "      </output>\n",
              "      <script>// Copyright 2017 Google LLC\n",
              "//\n",
              "// Licensed under the Apache License, Version 2.0 (the \"License\");\n",
              "// you may not use this file except in compliance with the License.\n",
              "// You may obtain a copy of the License at\n",
              "//\n",
              "//      http://www.apache.org/licenses/LICENSE-2.0\n",
              "//\n",
              "// Unless required by applicable law or agreed to in writing, software\n",
              "// distributed under the License is distributed on an \"AS IS\" BASIS,\n",
              "// WITHOUT WARRANTIES OR CONDITIONS OF ANY KIND, either express or implied.\n",
              "// See the License for the specific language governing permissions and\n",
              "// limitations under the License.\n",
              "\n",
              "/**\n",
              " * @fileoverview Helpers for google.colab Python module.\n",
              " */\n",
              "(function(scope) {\n",
              "function span(text, styleAttributes = {}) {\n",
              "  const element = document.createElement('span');\n",
              "  element.textContent = text;\n",
              "  for (const key of Object.keys(styleAttributes)) {\n",
              "    element.style[key] = styleAttributes[key];\n",
              "  }\n",
              "  return element;\n",
              "}\n",
              "\n",
              "// Max number of bytes which will be uploaded at a time.\n",
              "const MAX_PAYLOAD_SIZE = 100 * 1024;\n",
              "\n",
              "function _uploadFiles(inputId, outputId) {\n",
              "  const steps = uploadFilesStep(inputId, outputId);\n",
              "  const outputElement = document.getElementById(outputId);\n",
              "  // Cache steps on the outputElement to make it available for the next call\n",
              "  // to uploadFilesContinue from Python.\n",
              "  outputElement.steps = steps;\n",
              "\n",
              "  return _uploadFilesContinue(outputId);\n",
              "}\n",
              "\n",
              "// This is roughly an async generator (not supported in the browser yet),\n",
              "// where there are multiple asynchronous steps and the Python side is going\n",
              "// to poll for completion of each step.\n",
              "// This uses a Promise to block the python side on completion of each step,\n",
              "// then passes the result of the previous step as the input to the next step.\n",
              "function _uploadFilesContinue(outputId) {\n",
              "  const outputElement = document.getElementById(outputId);\n",
              "  const steps = outputElement.steps;\n",
              "\n",
              "  const next = steps.next(outputElement.lastPromiseValue);\n",
              "  return Promise.resolve(next.value.promise).then((value) => {\n",
              "    // Cache the last promise value to make it available to the next\n",
              "    // step of the generator.\n",
              "    outputElement.lastPromiseValue = value;\n",
              "    return next.value.response;\n",
              "  });\n",
              "}\n",
              "\n",
              "/**\n",
              " * Generator function which is called between each async step of the upload\n",
              " * process.\n",
              " * @param {string} inputId Element ID of the input file picker element.\n",
              " * @param {string} outputId Element ID of the output display.\n",
              " * @return {!Iterable<!Object>} Iterable of next steps.\n",
              " */\n",
              "function* uploadFilesStep(inputId, outputId) {\n",
              "  const inputElement = document.getElementById(inputId);\n",
              "  inputElement.disabled = false;\n",
              "\n",
              "  const outputElement = document.getElementById(outputId);\n",
              "  outputElement.innerHTML = '';\n",
              "\n",
              "  const pickedPromise = new Promise((resolve) => {\n",
              "    inputElement.addEventListener('change', (e) => {\n",
              "      resolve(e.target.files);\n",
              "    });\n",
              "  });\n",
              "\n",
              "  const cancel = document.createElement('button');\n",
              "  inputElement.parentElement.appendChild(cancel);\n",
              "  cancel.textContent = 'Cancel upload';\n",
              "  const cancelPromise = new Promise((resolve) => {\n",
              "    cancel.onclick = () => {\n",
              "      resolve(null);\n",
              "    };\n",
              "  });\n",
              "\n",
              "  // Wait for the user to pick the files.\n",
              "  const files = yield {\n",
              "    promise: Promise.race([pickedPromise, cancelPromise]),\n",
              "    response: {\n",
              "      action: 'starting',\n",
              "    }\n",
              "  };\n",
              "\n",
              "  cancel.remove();\n",
              "\n",
              "  // Disable the input element since further picks are not allowed.\n",
              "  inputElement.disabled = true;\n",
              "\n",
              "  if (!files) {\n",
              "    return {\n",
              "      response: {\n",
              "        action: 'complete',\n",
              "      }\n",
              "    };\n",
              "  }\n",
              "\n",
              "  for (const file of files) {\n",
              "    const li = document.createElement('li');\n",
              "    li.append(span(file.name, {fontWeight: 'bold'}));\n",
              "    li.append(span(\n",
              "        `(${file.type || 'n/a'}) - ${file.size} bytes, ` +\n",
              "        `last modified: ${\n",
              "            file.lastModifiedDate ? file.lastModifiedDate.toLocaleDateString() :\n",
              "                                    'n/a'} - `));\n",
              "    const percent = span('0% done');\n",
              "    li.appendChild(percent);\n",
              "\n",
              "    outputElement.appendChild(li);\n",
              "\n",
              "    const fileDataPromise = new Promise((resolve) => {\n",
              "      const reader = new FileReader();\n",
              "      reader.onload = (e) => {\n",
              "        resolve(e.target.result);\n",
              "      };\n",
              "      reader.readAsArrayBuffer(file);\n",
              "    });\n",
              "    // Wait for the data to be ready.\n",
              "    let fileData = yield {\n",
              "      promise: fileDataPromise,\n",
              "      response: {\n",
              "        action: 'continue',\n",
              "      }\n",
              "    };\n",
              "\n",
              "    // Use a chunked sending to avoid message size limits. See b/62115660.\n",
              "    let position = 0;\n",
              "    do {\n",
              "      const length = Math.min(fileData.byteLength - position, MAX_PAYLOAD_SIZE);\n",
              "      const chunk = new Uint8Array(fileData, position, length);\n",
              "      position += length;\n",
              "\n",
              "      const base64 = btoa(String.fromCharCode.apply(null, chunk));\n",
              "      yield {\n",
              "        response: {\n",
              "          action: 'append',\n",
              "          file: file.name,\n",
              "          data: base64,\n",
              "        },\n",
              "      };\n",
              "\n",
              "      let percentDone = fileData.byteLength === 0 ?\n",
              "          100 :\n",
              "          Math.round((position / fileData.byteLength) * 100);\n",
              "      percent.textContent = `${percentDone}% done`;\n",
              "\n",
              "    } while (position < fileData.byteLength);\n",
              "  }\n",
              "\n",
              "  // All done.\n",
              "  yield {\n",
              "    response: {\n",
              "      action: 'complete',\n",
              "    }\n",
              "  };\n",
              "}\n",
              "\n",
              "scope.google = scope.google || {};\n",
              "scope.google.colab = scope.google.colab || {};\n",
              "scope.google.colab._files = {\n",
              "  _uploadFiles,\n",
              "  _uploadFilesContinue,\n",
              "};\n",
              "})(self);\n",
              "</script> "
            ]
          },
          "metadata": {}
        },
        {
          "output_type": "stream",
          "name": "stdout",
          "text": [
            "Saving Exp3_Indiv_Model_compare.csv to Exp3_Indiv_Model_compare.csv\n"
          ]
        }
      ],
      "source": [
        "uploaded = files.upload()"
      ]
    },
    {
      "cell_type": "code",
      "execution_count": 34,
      "metadata": {
        "id": "IvoUAzRZr2mU"
      },
      "outputs": [],
      "source": [
        "Exp3_df_weight_resist = pd.read_csv(io.BytesIO(uploaded['Exp3_Indiv_Model_compare.csv']))"
      ]
    },
    {
      "cell_type": "markdown",
      "metadata": {
        "id": "7vDv_HoIyHc0"
      },
      "source": [
        "Upload the **behaviour** dataset\n"
      ]
    },
    {
      "cell_type": "code",
      "execution_count": 35,
      "metadata": {
        "colab": {
          "base_uri": "https://localhost:8080/",
          "height": 73
        },
        "id": "P8bMJcoPr632",
        "outputId": "9d998d47-697f-4aa5-97b5-18be720534b7"
      },
      "outputs": [
        {
          "output_type": "display_data",
          "data": {
            "text/plain": [
              "<IPython.core.display.HTML object>"
            ],
            "text/html": [
              "\n",
              "     <input type=\"file\" id=\"files-4dc089da-a6c0-4ffd-bdfc-44dd17adcb8b\" name=\"files[]\" multiple disabled\n",
              "        style=\"border:none\" />\n",
              "     <output id=\"result-4dc089da-a6c0-4ffd-bdfc-44dd17adcb8b\">\n",
              "      Upload widget is only available when the cell has been executed in the\n",
              "      current browser session. Please rerun this cell to enable.\n",
              "      </output>\n",
              "      <script>// Copyright 2017 Google LLC\n",
              "//\n",
              "// Licensed under the Apache License, Version 2.0 (the \"License\");\n",
              "// you may not use this file except in compliance with the License.\n",
              "// You may obtain a copy of the License at\n",
              "//\n",
              "//      http://www.apache.org/licenses/LICENSE-2.0\n",
              "//\n",
              "// Unless required by applicable law or agreed to in writing, software\n",
              "// distributed under the License is distributed on an \"AS IS\" BASIS,\n",
              "// WITHOUT WARRANTIES OR CONDITIONS OF ANY KIND, either express or implied.\n",
              "// See the License for the specific language governing permissions and\n",
              "// limitations under the License.\n",
              "\n",
              "/**\n",
              " * @fileoverview Helpers for google.colab Python module.\n",
              " */\n",
              "(function(scope) {\n",
              "function span(text, styleAttributes = {}) {\n",
              "  const element = document.createElement('span');\n",
              "  element.textContent = text;\n",
              "  for (const key of Object.keys(styleAttributes)) {\n",
              "    element.style[key] = styleAttributes[key];\n",
              "  }\n",
              "  return element;\n",
              "}\n",
              "\n",
              "// Max number of bytes which will be uploaded at a time.\n",
              "const MAX_PAYLOAD_SIZE = 100 * 1024;\n",
              "\n",
              "function _uploadFiles(inputId, outputId) {\n",
              "  const steps = uploadFilesStep(inputId, outputId);\n",
              "  const outputElement = document.getElementById(outputId);\n",
              "  // Cache steps on the outputElement to make it available for the next call\n",
              "  // to uploadFilesContinue from Python.\n",
              "  outputElement.steps = steps;\n",
              "\n",
              "  return _uploadFilesContinue(outputId);\n",
              "}\n",
              "\n",
              "// This is roughly an async generator (not supported in the browser yet),\n",
              "// where there are multiple asynchronous steps and the Python side is going\n",
              "// to poll for completion of each step.\n",
              "// This uses a Promise to block the python side on completion of each step,\n",
              "// then passes the result of the previous step as the input to the next step.\n",
              "function _uploadFilesContinue(outputId) {\n",
              "  const outputElement = document.getElementById(outputId);\n",
              "  const steps = outputElement.steps;\n",
              "\n",
              "  const next = steps.next(outputElement.lastPromiseValue);\n",
              "  return Promise.resolve(next.value.promise).then((value) => {\n",
              "    // Cache the last promise value to make it available to the next\n",
              "    // step of the generator.\n",
              "    outputElement.lastPromiseValue = value;\n",
              "    return next.value.response;\n",
              "  });\n",
              "}\n",
              "\n",
              "/**\n",
              " * Generator function which is called between each async step of the upload\n",
              " * process.\n",
              " * @param {string} inputId Element ID of the input file picker element.\n",
              " * @param {string} outputId Element ID of the output display.\n",
              " * @return {!Iterable<!Object>} Iterable of next steps.\n",
              " */\n",
              "function* uploadFilesStep(inputId, outputId) {\n",
              "  const inputElement = document.getElementById(inputId);\n",
              "  inputElement.disabled = false;\n",
              "\n",
              "  const outputElement = document.getElementById(outputId);\n",
              "  outputElement.innerHTML = '';\n",
              "\n",
              "  const pickedPromise = new Promise((resolve) => {\n",
              "    inputElement.addEventListener('change', (e) => {\n",
              "      resolve(e.target.files);\n",
              "    });\n",
              "  });\n",
              "\n",
              "  const cancel = document.createElement('button');\n",
              "  inputElement.parentElement.appendChild(cancel);\n",
              "  cancel.textContent = 'Cancel upload';\n",
              "  const cancelPromise = new Promise((resolve) => {\n",
              "    cancel.onclick = () => {\n",
              "      resolve(null);\n",
              "    };\n",
              "  });\n",
              "\n",
              "  // Wait for the user to pick the files.\n",
              "  const files = yield {\n",
              "    promise: Promise.race([pickedPromise, cancelPromise]),\n",
              "    response: {\n",
              "      action: 'starting',\n",
              "    }\n",
              "  };\n",
              "\n",
              "  cancel.remove();\n",
              "\n",
              "  // Disable the input element since further picks are not allowed.\n",
              "  inputElement.disabled = true;\n",
              "\n",
              "  if (!files) {\n",
              "    return {\n",
              "      response: {\n",
              "        action: 'complete',\n",
              "      }\n",
              "    };\n",
              "  }\n",
              "\n",
              "  for (const file of files) {\n",
              "    const li = document.createElement('li');\n",
              "    li.append(span(file.name, {fontWeight: 'bold'}));\n",
              "    li.append(span(\n",
              "        `(${file.type || 'n/a'}) - ${file.size} bytes, ` +\n",
              "        `last modified: ${\n",
              "            file.lastModifiedDate ? file.lastModifiedDate.toLocaleDateString() :\n",
              "                                    'n/a'} - `));\n",
              "    const percent = span('0% done');\n",
              "    li.appendChild(percent);\n",
              "\n",
              "    outputElement.appendChild(li);\n",
              "\n",
              "    const fileDataPromise = new Promise((resolve) => {\n",
              "      const reader = new FileReader();\n",
              "      reader.onload = (e) => {\n",
              "        resolve(e.target.result);\n",
              "      };\n",
              "      reader.readAsArrayBuffer(file);\n",
              "    });\n",
              "    // Wait for the data to be ready.\n",
              "    let fileData = yield {\n",
              "      promise: fileDataPromise,\n",
              "      response: {\n",
              "        action: 'continue',\n",
              "      }\n",
              "    };\n",
              "\n",
              "    // Use a chunked sending to avoid message size limits. See b/62115660.\n",
              "    let position = 0;\n",
              "    do {\n",
              "      const length = Math.min(fileData.byteLength - position, MAX_PAYLOAD_SIZE);\n",
              "      const chunk = new Uint8Array(fileData, position, length);\n",
              "      position += length;\n",
              "\n",
              "      const base64 = btoa(String.fromCharCode.apply(null, chunk));\n",
              "      yield {\n",
              "        response: {\n",
              "          action: 'append',\n",
              "          file: file.name,\n",
              "          data: base64,\n",
              "        },\n",
              "      };\n",
              "\n",
              "      let percentDone = fileData.byteLength === 0 ?\n",
              "          100 :\n",
              "          Math.round((position / fileData.byteLength) * 100);\n",
              "      percent.textContent = `${percentDone}% done`;\n",
              "\n",
              "    } while (position < fileData.byteLength);\n",
              "  }\n",
              "\n",
              "  // All done.\n",
              "  yield {\n",
              "    response: {\n",
              "      action: 'complete',\n",
              "    }\n",
              "  };\n",
              "}\n",
              "\n",
              "scope.google = scope.google || {};\n",
              "scope.google.colab = scope.google.colab || {};\n",
              "scope.google.colab._files = {\n",
              "  _uploadFiles,\n",
              "  _uploadFilesContinue,\n",
              "};\n",
              "})(self);\n",
              "</script> "
            ]
          },
          "metadata": {}
        },
        {
          "output_type": "stream",
          "name": "stdout",
          "text": [
            "Saving Exp3_data_behaviour.csv to Exp3_data_behaviour.csv\n"
          ]
        }
      ],
      "source": [
        "uploaded = files.upload()"
      ]
    },
    {
      "cell_type": "code",
      "execution_count": 36,
      "metadata": {
        "id": "o5SwH8_isJUn"
      },
      "outputs": [],
      "source": [
        "Exp3_df_behaviour = pd.read_csv(io.BytesIO(uploaded['Exp3_data_behaviour.csv']))"
      ]
    },
    {
      "cell_type": "markdown",
      "metadata": {
        "id": "A2GBlb0uyazT"
      },
      "source": [
        "Saving the open questions for: \n",
        "\n",
        "\n",
        "1.   Saving the open question for **Q1** (about the **solo** condition) \n",
        "2.   Saving the open question for **Q2** (about the **social** condition) "
      ]
    },
    {
      "cell_type": "code",
      "execution_count": 37,
      "metadata": {
        "id": "zVJJaGk6sM1q"
      },
      "outputs": [],
      "source": [
        "Exp3_df_q2 = df_exp_3['Q2']\n",
        "Exp3_df_q1 = df_exp_3['Q1']"
      ]
    },
    {
      "cell_type": "markdown",
      "metadata": {
        "id": "0qtXsNuky98H"
      },
      "source": [
        "# **Question 1** \n",
        "**Solo Condition.**\n",
        "\n",
        "`Looking at the responses in the solo condition. Here we are trying to classify who are the participants that have a good ability to describe their strategy that will allow us to map onto their behvaiour. `"
      ]
    },
    {
      "cell_type": "markdown",
      "metadata": {
        "id": "q2kQGNp5zHil"
      },
      "source": [
        "Creating an empty dictionary to store all model predictions.\n",
        "> 1.1. sequences = the free text participants provided for Q1. \n",
        "\n",
        "> 1.2. candidate_labels = a list of all the possible labels we used to classify possible strategies for Q1 (risk taking, risk aversion).\n",
        "\n",
        "changesss\n"
      ]
    },
    {
      "cell_type": "code",
      "execution_count": 38,
      "metadata": {
        "id": "bANLZv4PsM5S"
      },
      "outputs": [],
      "source": [
        "Exp3_Q1_class_out_zero_shot = dict()\n",
        "for i in range(41):\n",
        "  Exp3_Q1_class_out_zero_shot[i] = classifier_zero_shot(\n",
        "    sequences = Exp3_df_q1[i],\n",
        "    candidate_labels = [\"chose jar A\", \"chose from jar a\", \"odds of white\", \"likelihood to get white ball\",\n",
        "                        \"chose jar B\", \"chose from jar b\", \"jar with the most black\",\"odds of black\", \"likelihood to get black ball\", \n",
        "                        \"stick to jar A\", \"stick to jar B\", \n",
        "                        \"riskier higher reward\", \n",
        "                         \"higher value\", \"get 14\",\"higher chance to get reward\", \"greater bonus\", \"higher chance to get white ball\",\n",
        "                        \"get 6\",\"go for £14 bonus\",\n",
        "                        \"higher chance to get black ball\", \n",
        "                         \"higher odds of success\",\n",
        "                        \"chose to stick\", \"chose to switch\",\n",
        "                        \"how many black and white balls\",\n",
        "                        \"correct\", \"gut feeling\", \"intuition\", #no strategy                         \n",
        "                        ],\n",
        "    multi_label = True)"
      ]
    },
    {
      "cell_type": "markdown",
      "metadata": {
        "id": "kYslzmJhzbUb"
      },
      "source": [
        "2. Storing the output from BERT classifier \n",
        "\n",
        "> 2.1. lables = Saving the best predictive label for the sentences given by participants\n",
        "\n",
        "> 2.2. scores = the prediction score for the best label \n",
        "\n",
        "> 2.3. ids = participants' ID\n"
      ]
    },
    {
      "cell_type": "code",
      "execution_count": null,
      "metadata": {
        "id": "o6hfSUHqsM8u"
      },
      "outputs": [],
      "source": [
        "lables = []\n",
        "scores = []\n",
        "ids = []\n",
        "sentences = []\n",
        "for i in range(41):\n",
        "    id = df_exp_3['id'][i]\n",
        "    lable = Exp3_Q1_class_out_zero_shot[i]['labels'][0]\n",
        "    score = Exp3_Q1_class_out_zero_shot[i]['scores'][0]\n",
        "    sentence = Exp3_Q1_class_out_zero_shot[i]['sequence']\n",
        "    ids.append(id)\n",
        "    lables.append(lable)\n",
        "    scores.append(score)\n",
        "    sentences.append(sentence)\n",
        "\n",
        "# converting lists to arrays    \n",
        "scores = np.array(scores)\n",
        "sentences = np.array(sentences)\n",
        "lables = np.array(lables)\n",
        "\n",
        "# creating a dataset consisting of 1) IDs, 2) free text, 3) best labels 4)their scores \n",
        "Exp3_Q1_scores_and_lables = numpy.column_stack([df_exp_3['id'], sentences, lables, scores])\n",
        "Exp3_Q1_scores_and_lables =  pd.DataFrame(Exp3_Q1_scores_and_lables, columns = ['id','sentence', 'Lable', 'Score'])\n",
        "Exp3_Q1_scores_and_lables['id'] = Exp3_Q1_scores_and_lables['id'].astype(float)\n",
        "Exp3_Q1_scores_and_lables['Score'] = Exp3_Q1_scores_and_lables['Score'].astype(float)\n",
        "\n",
        "# # \n",
        "# Exp3_df_behaviour['id'] = Exp3_df_behaviour['id'].astype(float)\n",
        "\n",
        "# ind = np.array(Exp3_Q1_scores_and_lables.index)\n",
        "# ind = np.array(ind)[0:]\n",
        "# ind\n",
        "# Exp3_df_behaviour_sub = Exp3_df_behaviour.loc[ind]\n",
        "\n",
        "\n",
        "\n",
        "# adding the original behavioural data to the output from the model \n",
        "Exp3_df_behaviour['id'] = Exp3_df_behaviour['id'].astype(float)\n",
        "\n",
        "# combine all information into one dataframe \n",
        "Exp3_q1_all = numpy.column_stack([Exp3_df_behaviour['id'], \n",
        "                                  Exp3_df_behaviour['meanSolo'], \n",
        "                                  Exp3_Q1_scores_and_lables['id'],\n",
        "                                  Exp3_Q1_scores_and_lables['sentence'],\n",
        "                                  Exp3_Q1_scores_and_lables['Score'], \n",
        "                                  Exp3_Q1_scores_and_lables['Lable']]) \n",
        "\n",
        "Exp3_q1_all = pd.DataFrame(Exp3_q1_all, columns = ['id_behaviour','meanRiskSolo', 'id_text', 'sentence', 'Score', 'Label'])"
      ]
    },
    {
      "cell_type": "code",
      "execution_count": null,
      "metadata": {
        "colab": {
          "base_uri": "https://localhost:8080/"
        },
        "id": "zDl9e_EP1Pym",
        "outputId": "f63dca59-2f63-44f2-a288-f6def6db4b4a"
      },
      "outputs": [
        {
          "data": {
            "text/plain": [
              "41"
            ]
          },
          "execution_count": 37,
          "metadata": {},
          "output_type": "execute_result"
        }
      ],
      "source": [
        "# initial sample size: N = 41 \n",
        "len(Exp3_q1_all['Label'])"
      ]
    },
    {
      "cell_type": "markdown",
      "metadata": {
        "id": "0U04PzHO0tKc"
      },
      "source": [
        "3.  Exclusion\n",
        "\n"
      ]
    },
    {
      "cell_type": "markdown",
      "metadata": {
        "id": "wQZrIylE1EUu"
      },
      "source": [
        "> 3.1. **Step 1** - exclusion of strategies that cannot be identified as meaningful (that can explain any behvaiour comparable to the model. For example, 'corretc' or 'by how many black and white balls' )"
      ]
    },
    {
      "cell_type": "code",
      "execution_count": null,
      "metadata": {
        "id": "Jpzz2zYtSb8H"
      },
      "outputs": [],
      "source": [
        "from pandas.tseries.frequencies import unique\n",
        "Exp3_q1_all = Exp3_q1_all[Exp3_q1_all['Label'] != \"correct\"] # 4 individuals were excluded \n",
        "Exp3_q1_all = Exp3_q1_all[Exp3_q1_all['Label'] !=  \"how many black and white balls\"] # 1 individuals were excluded "
      ]
    },
    {
      "cell_type": "code",
      "execution_count": null,
      "metadata": {
        "colab": {
          "base_uri": "https://localhost:8080/"
        },
        "id": "7ofH24yN1gMr",
        "outputId": "b765c1d2-93bf-4f68-98ef-5a217cc6f73b"
      },
      "outputs": [
        {
          "data": {
            "text/plain": [
              "36"
            ]
          },
          "execution_count": 39,
          "metadata": {},
          "output_type": "execute_result"
        }
      ],
      "source": [
        "# Step 1 -> N = 36 \n",
        "len(Exp3_q1_all['Label'])"
      ]
    },
    {
      "cell_type": "code",
      "execution_count": null,
      "metadata": {
        "colab": {
          "base_uri": "https://localhost:8080/"
        },
        "id": "QBPi2O121IrN",
        "outputId": "6a0a72fb-750f-4840-d788-1dc47d262e62"
      },
      "outputs": [
        {
          "data": {
            "text/plain": [
              "array(['get 6', 'higher odds of success', 'stick to jar B',\n",
              "       'chose to stick', 'go for £14 bonus', 'jar with the most black',\n",
              "       'chose jar B', 'odds of black', 'likelihood to get black ball',\n",
              "       'higher chance to get black ball', 'gut feeling',\n",
              "       'likelihood to get white ball', 'chose to switch', 'higher value',\n",
              "       'higher chance to get reward', 'chose from jar b',\n",
              "       'riskier higher reward'], dtype=object)"
            ]
          },
          "execution_count": 40,
          "metadata": {},
          "output_type": "execute_result"
        }
      ],
      "source": [
        "# Looking at the unique lables left  \n",
        "unique(Exp3_q1_all['Label'])"
      ]
    },
    {
      "cell_type": "code",
      "execution_count": null,
      "metadata": {
        "colab": {
          "base_uri": "https://localhost:8080/"
        },
        "id": "jCFOKz0tZM7b",
        "outputId": "c86503d3-3044-490f-86dc-a79c9e8c855e"
      },
      "outputs": [
        {
          "data": {
            "text/plain": [
              "Int64Index([ 0,  1,  2,  3,  4,  5,  6,  7,  8,  9, 10, 11, 12, 13, 14, 15, 18,\n",
              "            19, 20, 21, 22, 23, 24, 25, 26, 27, 28, 29, 30, 32, 33, 35, 36, 37,\n",
              "            38, 40],\n",
              "           dtype='int64')"
            ]
          },
          "execution_count": 41,
          "metadata": {},
          "output_type": "execute_result"
        }
      ],
      "source": [
        "Exp3_q1_all.index"
      ]
    },
    {
      "cell_type": "markdown",
      "metadata": {
        "id": "eYZgKuBN14IH"
      },
      "source": [
        "Assign **risk preferences** to the different lables. For example: 'jar with the most black' meant that the individual was aiming to chose from the jar with most black balls (i.e., the safer jar) and hence will be classified as risk averse. "
      ]
    },
    {
      "cell_type": "code",
      "execution_count": null,
      "metadata": {
        "id": "puoKlmlkRsbd"
      },
      "outputs": [],
      "source": [
        "exp3_classes_risk_from_text = list()\n",
        "\n",
        "for i in Exp3_q1_all.index:\n",
        "  print(i)\n",
        "  if(Exp3_q1_all['Label'][i] == 'chose from jar b' or Exp3_q1_all['Label'][i] == 'chose jar B' or Exp3_q1_all['Label'][i] == 'odds of black' or Exp3_q1_all['Label'][i] == 'jar with the most black' or Exp3_q1_all['Label'][i] == 'stick to jar B' or Exp3_q1_all['Label'][i] == 'higher chance to get black ball' or Exp3_q1_all['Label'][i] == 'higher odds of success' or Exp3_q1_all['Label'][i] == 'get 6' or Exp3_q1_all['Label'][i] == 'likelihood to get black ball'):\n",
        "      exp3_classes_risk_from_text.append(\"risk averse\")\n",
        "      Exp3_q1_all['Score'][i] = 1- Exp3_q1_all['Score'][i]\n",
        "  if (Exp3_q1_all['Label'][i] == 'riskier higher reward' or Exp3_q1_all['Label'][i] == 'greater bonus' or Exp3_q1_all['Label'][i] == 'higher chance to get reward' or Exp3_q1_all['Label'][i] == 'higher chance to get white ball' or Exp3_q1_all['Label'][i] == 'higher value' or Exp3_q1_all['Label'][i] == 'get 14' or Exp3_q1_all['Label'][i] == \"go for £14 bonus\" or Exp3_q1_all['Label'][i] == \"likelihood to get white ball\"):\n",
        "      exp3_classes_risk_from_text.append(\"risk seeking\")\n",
        "  if (Exp3_q1_all['Label'][i] == 'gut feeling' or Exp3_q1_all['Label'][i] == 'chose to switch' or Exp3_q1_all['Label'][i] == 'chose to stick'):\n",
        "      exp3_classes_risk_from_text.append(\"none\")"
      ]
    },
    {
      "cell_type": "code",
      "execution_count": null,
      "metadata": {
        "id": "-x5gFezNSLe4"
      },
      "outputs": [],
      "source": [
        "Exp3_q1_all['newcol'] = exp3_classes_risk_from_text"
      ]
    },
    {
      "cell_type": "markdown",
      "metadata": {
        "id": "HbbBfzMs2rdh"
      },
      "source": [
        "> 3.2. **Step 2** - \n",
        "Inclusion of individuals according to their quality in description. \n",
        "\n",
        "- If individuals that were classified with a lable that describes a 'risk averse' and indeed took risk less than .5 are included \n",
        "- If individuals that were classified with a lable that describes a 'risk seeking' and indeed took risk more than .5 are included \n",
        "-  If individuals that were classified with a lable that describes a 'none' and indeed took risk around .5 are included. "
      ]
    },
    {
      "cell_type": "code",
      "execution_count": null,
      "metadata": {
        "id": "O3hBpfvodqLH"
      },
      "outputs": [],
      "source": [
        "Exp3_q1_all_sub = Exp3_q1_all[(Exp3_q1_all['newcol'] == \"risk averse\") & (Exp3_q1_all['meanRiskSolo'] < .5) | (Exp3_q1_all['newcol'] == \"risk seeking\") & (Exp3_q1_all['meanRiskSolo'] > .5) |(Exp3_q1_all['newcol'] == \"none\") & ((Exp3_q1_all['meanRiskSolo'] <= .55) & (Exp3_q1_all['meanRiskSolo'] > .45))]\n"
      ]
    },
    {
      "cell_type": "code",
      "execution_count": null,
      "metadata": {
        "colab": {
          "base_uri": "https://localhost:8080/"
        },
        "id": "MUPbFsNk3Mxp",
        "outputId": "f57e36c3-226d-4efe-b2d5-c57a64059371"
      },
      "outputs": [
        {
          "data": {
            "text/plain": [
              "20"
            ]
          },
          "execution_count": 45,
          "metadata": {},
          "output_type": "execute_result"
        }
      ],
      "source": [
        "# step 2 -> N = 20\n",
        "len(Exp3_q1_all_sub['Label'])"
      ]
    },
    {
      "cell_type": "code",
      "execution_count": null,
      "metadata": {
        "colab": {
          "base_uri": "https://localhost:8080/"
        },
        "id": "XXm8QSTOdwyn",
        "outputId": "f79a664d-ca26-4e75-8ef6-ebd2d4b85701"
      },
      "outputs": [
        {
          "data": {
            "text/plain": [
              "Int64Index([0, 1, 2, 3, 5, 6, 7, 8, 10, 11, 13, 14, 15, 18, 23, 25, 27, 29, 35,\n",
              "            38],\n",
              "           dtype='int64')"
            ]
          },
          "execution_count": 46,
          "metadata": {},
          "output_type": "execute_result"
        }
      ],
      "source": [
        "Exp3_q1_all_sub.index # 0, 1, 2, 3, 5, 6, 7, 8, 10, 11, 13, 14, 15, 18, 23, 25, 27, 29, 35,38"
      ]
    },
    {
      "cell_type": "code",
      "execution_count": null,
      "metadata": {
        "id": "vY-_lPyOsNJW"
      },
      "outputs": [],
      "source": [
        "# Exp2_q1_all_sub = Exp2_q1_all_sub[['id_behaviour', 'meanRiskSolo', 'id_text', 'sentence', 'Score', 'Label']]\n",
        "# Exp2_q1_all_sub.head(n=15)\n"
      ]
    },
    {
      "cell_type": "markdown",
      "metadata": {
        "id": "B_uyFrUR_BbC"
      },
      "source": [
        "# The Relationship between Social Strategy Description & Model Estimates \n",
        "\n",
        "(only for ***Super Describers*** from Q1) "
      ]
    },
    {
      "cell_type": "markdown",
      "metadata": {
        "id": "pZYkQJCM4eWR"
      },
      "source": [
        "# **QUESTION - 2**"
      ]
    },
    {
      "cell_type": "markdown",
      "metadata": {
        "id": "QamtkTGITXHK"
      },
      "source": [
        "## **Experiment 2**\n",
        "\n",
        "1. Looking at the responses in the social condition. Here we are trying to classify who are the participants that had a good ability to describe their strategy in Q1 (solo condition) that will allow us to map their strategy descriptions and their individual model estimates."
      ]
    },
    {
      "cell_type": "markdown",
      "metadata": {
        "id": "Ee2cXew2BIjD"
      },
      "source": [
        "Creating an empty dictionary to store all model predictions.\n",
        "> 1.1. sequences = the free text participants provided for Q1. \n",
        "\n",
        "> 1.2. candidate_labels = a list of all the possible labels we used to classify possible strategies for Q1 (risk taking, risk aversion).\n",
        "\n"
      ]
    },
    {
      "cell_type": "code",
      "execution_count": null,
      "metadata": {
        "id": "v7TszZav9Qyg"
      },
      "outputs": [],
      "source": [
        "Exp2_class_out_zero_shot = dict()\n",
        "\n",
        "for i in range(40):\n",
        "  Exp2_class_out_zero_shot[i] = classifier_zero_shot(\n",
        "    sequences = Exp2_df_q2[i],\n",
        "    candidate_labels = [\"influenced by\", \"did not influence me\", \"sometimes influenced me\", \"often influenced me\",\n",
        "                        \"used the others\", \"did not use the others\", \"sometimes used the others\", \"often used the others\",\n",
        "                        \"care about majority\", \"did not care about the majority\", \"sometimes cared about majority\", \"often cared about majority\",\n",
        "                        \"care about others\", \"did not care about others\", \"sometimes cares about others\", \"often cares about others\"],\n",
        "    #candidate_labels = [\"use\", \"did not use\"],\n",
        "    multi_label = True)\n"
      ]
    },
    {
      "cell_type": "code",
      "execution_count": null,
      "metadata": {
        "id": "RLXdOHVIrFxn"
      },
      "outputs": [],
      "source": [
        "Exp2_df_weight = Exp2_df_weight_resist[['Weight_Dist', 'id']]\n",
        "Exp2_df_weight"
      ]
    },
    {
      "cell_type": "markdown",
      "metadata": {
        "id": "cRlM0rcmAOo6"
      },
      "source": [
        "2. Storing the output from BERT classifier \n",
        "\n",
        "> 2.1. lables = Saving the best predictive label for the sentences given by participants\n",
        "\n",
        "> 2.2. scores = the prediction score for the best label \n",
        "> 2.3. ids = participants' ID"
      ]
    },
    {
      "cell_type": "code",
      "execution_count": null,
      "metadata": {
        "id": "FueFxQVknFy_"
      },
      "outputs": [],
      "source": [
        "Exp2_lables = []\n",
        "Exp2_scores = []\n",
        "Exp2_ids = []\n",
        "Exp2_sentences = []\n",
        "for i in range(40):\n",
        "    id = df_exp_2['id'][i]\n",
        "    lable = Exp2_class_out_zero_shot[i]['labels'][0]\n",
        "    score = Exp2_class_out_zero_shot[i]['scores'][0]\n",
        "    sentence = Exp2_class_out_zero_shot[i]['sequence']\n",
        "    #print(ids, lables, scores)\n",
        "    Exp2_ids.append(id)\n",
        "    Exp2_lables.append(lable)\n",
        "    Exp2_scores.append(score)\n",
        "    Exp2_sentences.append(sentence)\n",
        "Exp2_scores = np.array(Exp2_scores)\n",
        "Exp2_sentences = np.array(Exp2_sentences)\n",
        "Exp2_ids = np.array(Exp2_ids)\n",
        "\n",
        "import numpy as numpy\n",
        "\n",
        "Exp2_scores_and_lables = numpy.column_stack([Exp2_ids, Exp2_sentences, Exp2_lables, Exp2_scores])\n",
        "Exp2_scores_and_lables =  pd.DataFrame(Exp2_scores_and_lables, columns = ['id','sentence', 'Lable', 'Score'])\n",
        "Exp2_scores_and_lables['id'] = Exp2_scores_and_lables['id'].astype(float)\n",
        "Exp2_df_behaviour['dist_risk'] = Exp2_df_behaviour['dist_risk'].astype(float)\n",
        "\n",
        "Exp2_scores_and_lables = numpy.column_stack([Exp2_scores, Exp2_lables, \n",
        "                                             Exp2_scores_and_lables['id'], \n",
        "                                             Exp2_df_weight_resist['Weight_Dist'], \n",
        "                                             #Exp2_df_weight_resist['social_info_resistance'], \n",
        "                                             Exp2_df_weight_resist['id'], \n",
        "                                             Exp2_df_behaviour['dist_risk']])\n",
        "\n",
        "Exp2_scores_and_lables = pd.DataFrame(Exp2_scores_and_lables, columns = ['Score',\n",
        "                                                                         'Lable', \n",
        "                                                                         'id_score', \n",
        "                                                                         'weightDist', \n",
        "                                                                         #'ResistBayes', \n",
        "                                                                         'id_modeling', \n",
        "                                                                         'behaviour_dist'])\n"
      ]
    },
    {
      "cell_type": "code",
      "execution_count": null,
      "metadata": {
        "id": "1eMwsv3hO0g2"
      },
      "outputs": [],
      "source": [
        "# Convert the neccesary columns \n",
        "#Exp2_scores_and_lables = Exp2_scores_and_lables.sort_values(by=['id'])\n",
        "Exp2_scores_and_lables['behaviour_dist'] = Exp2_scores_and_lables['behaviour_dist'].astype(float)\n",
        "Exp2_scores_and_lables['behaviour_dist'] = abs(Exp2_scores_and_lables['behaviour_dist'])\n",
        "#scores_and_lables['Lable']\n",
        "Exp2_scores_and_lables['Score'] = Exp2_scores_and_lables['Score'].astype(float)\n",
        "#Exp2_scores_and_lables['ResistBayes'] = Exp2_scores_and_lables['ResistBayes'].astype(float)\n",
        "Exp2_scores_and_lables['weightDist'] = Exp2_scores_and_lables['weightDist'].astype(float)\n",
        "Exp2_scores_and_lables['behaviour_dist'] = Exp2_scores_and_lables['behaviour_dist'].astype(float)\n",
        "Exp2_scores_and_lables['behaviour_dist']  = abs(Exp2_scores_and_lables['behaviour_dist'])"
      ]
    },
    {
      "cell_type": "code",
      "execution_count": null,
      "metadata": {
        "colab": {
          "base_uri": "https://localhost:8080/"
        },
        "id": "YO9j8tAfz768",
        "outputId": "d2514f6f-9376-43e2-97f5-aec1a5ac3549"
      },
      "outputs": [
        {
          "data": {
            "text/plain": [
              "array(['sometimes influenced me', 'did not influence me', 'influenced by',\n",
              "       'did not care about the majority', 'often cared about majority',\n",
              "       'sometimes used the others', 'did not care about others',\n",
              "       'did not use the others'], dtype=object)"
            ]
          },
          "execution_count": 52,
          "metadata": {},
          "output_type": "execute_result"
        }
      ],
      "source": [
        "unique(Exp2_scores_and_lables['Lable'])"
      ]
    },
    {
      "cell_type": "markdown",
      "metadata": {
        "id": "l0do5iYbDNWz"
      },
      "source": [
        "3. Conversion of the labels scores into ranked-ordered scores.\n",
        "\n",
        "\n",
        "> - If the individuals' best lable indicated that they beleived to have **not paid attention to otehrs' choices**, we wanted to convert it into a **low weight**. We, therefore substracted the high label from 1 (i.e., the maximum level of accuracy. most of the accuracy labels are around .9)\n",
        "\n",
        "> - If the individuals' best lable indicated that they beleived to **have paid attention to otehrs' choices**, we left the accuracy as **high** as its models accuracy score. \n",
        "\n",
        "> - If the individuals' best lable indicated that they beleived to **have paid attention to otehrs' choices sometimes**, we wanted to convert it into a **mid weight**. We, therefore substracted .5 from their label accuracy as \"sometimes\" is about half of the time. \n",
        "\n",
        "> - If the individuals' best lable indicated that they beleived to **have paid attention to otehrs' choices often**, we wanted to convert it into a **relatively high weight**. We, therefore substracted .2 from their label accuracy as \"often\" is about .8 of the time. \n"
      ]
    },
    {
      "cell_type": "code",
      "execution_count": null,
      "metadata": {
        "id": "SE9Ir9QYxy3t"
      },
      "outputs": [],
      "source": [
        "#for i in ind:\n",
        "for i in range(40):\n",
        "  if Exp2_scores_and_lables['Lable'][i] == 'did not care about others' or Exp2_scores_and_lables['Lable'][i] == 'did not care about the majority' or Exp2_scores_and_lables['Lable'][i] == 'did not influence me' or Exp2_scores_and_lables['Lable'][i] == 'did not use the others':\n",
        "     Exp2_scores_and_lables['Score'][i] = 1 - Exp2_scores_and_lables['Score'][i]\n",
        "  if Exp2_scores_and_lables['Lable'][i] == Exp2_scores_and_lables['Lable'][i] == 'sometimes influenced me' or Exp2_scores_and_lables['Lable'][i] == 'sometimes used the others':\n",
        "      Exp2_scores_and_lables['Score'][i] = Exp2_scores_and_lables['Score'][i] - .5\n",
        "  if Exp2_scores_and_lables['Lable'][i] == 'often cared about majority':\n",
        "    Exp2_scores_and_lables['Score'][i] = Exp2_scores_and_lables['Score'][i] - .2\n"
      ]
    },
    {
      "cell_type": "code",
      "execution_count": null,
      "metadata": {
        "id": "_OwBxoQJgFWO"
      },
      "outputs": [],
      "source": [
        "#Desc_Beha = Exp2_scores_and_lables['Score'] - Exp2_scores_and_lables['behaviour_dist']\n",
        "# Exp2_Data_full = numpy.column_stack([Exp2_scores_and_lables, Exp2_sentences])\n",
        "# Exp2_Data_full = pd.DataFrame(Exp2_Data_full, columns = ['Score','Lable', \n",
        "#                                                'id_score', \n",
        "#                                                'weightDist', \n",
        "#                                                'ResistBayes', \n",
        "#                                                'id_modeling', \n",
        "#                                                #'behaviour_dist', \n",
        "#                                                'diff_descr_behaviour', \n",
        "#                                                'strategy_desc'])"
      ]
    },
    {
      "cell_type": "markdown",
      "metadata": {
        "id": "5UeljpP2GPep"
      },
      "source": [
        "Choosing **only the 'super describers'** from the Solo Condition\n",
        "\n"
      ]
    },
    {
      "cell_type": "code",
      "execution_count": null,
      "metadata": {
        "id": "J3wqziQH9RRI"
      },
      "outputs": [],
      "source": [
        "Exp2_Q1_super_describers = Exp2_q1_all_sub.index\n",
        "Exp2_scores_and_lables = Exp2_scores_and_lables.loc[Exp2_Q1_super_describers]"
      ]
    },
    {
      "cell_type": "code",
      "execution_count": null,
      "metadata": {
        "id": "Mooe9xePK8BE"
      },
      "outputs": [],
      "source": [
        "Exp2_scores_and_lables.head(n=10)"
      ]
    },
    {
      "cell_type": "markdown",
      "metadata": {
        "id": "WtnyqJWwHNHk"
      },
      "source": [
        "## **Experiment 3**\n",
        "\n",
        "1. Looking at the responses in the social condition. Here we are trying to classify who are the participants that had a good ability to describe their strategy in Q1 (solo condition) that will allow us to map their strategy descriptions and their individual model estimates."
      ]
    },
    {
      "cell_type": "markdown",
      "metadata": {
        "id": "xdvj_kSPHV6N"
      },
      "source": [
        "Creating an empty dictionary to store all model predictions.\n",
        "> 1.1. sequences = the free text participants provided for Q1. \n",
        "\n",
        "> 1.2. candidate_labels = a list of all the possible labels we used to classify possible strategies for Q1 (risk taking, risk aversion).\n",
        "\n"
      ]
    },
    {
      "cell_type": "code",
      "execution_count": null,
      "metadata": {
        "id": "T4bvzTWeseDf"
      },
      "outputs": [],
      "source": [
        "Exp3_class_out_zero_shot = dict()\n",
        "\n",
        "for i in range(41):\n",
        "  Exp3_class_out_zero_shot[i] = classifier_zero_shot(\n",
        "    sequences = Exp3_df_q2[i],\n",
        "    candidate_labels = [\"influenced by\", \"did not influence me\", \"sometimes influenced me\", \"often influenced me\",\n",
        "                        \"used the others\", \"did not use the others\", \"sometimes used the others\", \"often used the others\",\n",
        "                        \"care about majority\", \"did not care about the majority\", \"sometimes cared about majority\", \"often cared about majority\",\n",
        "                        \"care about others\", \"did not care about others\", \"sometimes cares about others\", \"often cares about others\"],\n",
        "    #candidate_labels = [\"use\", \"did not use\"],\n",
        "    multi_label = True)"
      ]
    },
    {
      "cell_type": "code",
      "execution_count": null,
      "metadata": {
        "id": "OnbKsH0spnMs"
      },
      "outputs": [],
      "source": [
        "Exp3_df_weight = Exp3_df_weight_resist[['Weight_Dist', 'id']]\n",
        "Exp3_df_weight"
      ]
    },
    {
      "cell_type": "markdown",
      "metadata": {
        "id": "USD6Lwu4HZfT"
      },
      "source": [
        "2. Storing the output from BERT classifier \n",
        "\n",
        "> 2.1. lables = Saving the best predictive label for the sentences given by participants\n",
        "\n",
        "> 2.2. scores = the prediction score for the best label \n",
        "> 2.3. ids = participants' ID"
      ]
    },
    {
      "cell_type": "code",
      "execution_count": null,
      "metadata": {
        "id": "QCM1rcTctVTs"
      },
      "outputs": [],
      "source": [
        "Exp3_lables = []\n",
        "Exp3_scores = []\n",
        "Exp3_ids = []\n",
        "Exp3_sentences = []\n",
        "for i in range(41):\n",
        "    id = df_exp_3['id'][i]\n",
        "    lable = Exp3_class_out_zero_shot[i]['labels'][0]\n",
        "    score = Exp3_class_out_zero_shot[i]['scores'][0]\n",
        "    sentence = Exp3_class_out_zero_shot[i]['sequence']\n",
        "    #print(ids, lables, scores)\n",
        "    Exp3_ids.append(id)\n",
        "    Exp3_lables.append(lable)\n",
        "    Exp3_scores.append(score)\n",
        "    Exp3_sentences.append(sentence)\n",
        "Exp3_scores = np.array(Exp3_scores)\n",
        "Exp3_sentences = np.array(Exp3_sentences)\n",
        "Exp3_ids = np.array(Exp3_ids)\n",
        "\n",
        "import numpy as numpy\n",
        "\n",
        "Exp3_scores_and_lables = numpy.column_stack([Exp3_ids, Exp3_sentences, Exp3_lables, Exp3_scores])\n",
        "Exp3_scores_and_lables =  pd.DataFrame(Exp3_scores_and_lables, columns = ['id','sentence', 'Lable', 'Score'])\n",
        "Exp3_scores_and_lables['id'] = Exp3_scores_and_lables['id'].astype(float)\n",
        "Exp3_df_behaviour['dist_risk'] = Exp3_df_behaviour['dist_risk'].astype(float)\n",
        "\n",
        "Exp3_scores_and_lables = numpy.column_stack([Exp3_scores, Exp3_lables, \n",
        "                                             Exp3_scores_and_lables['id'], \n",
        "                                             Exp3_df_weight_resist['Weight_Dist'], \n",
        "                                             #Exp2_df_weight_resist['social_info_resistance'], \n",
        "                                             Exp3_df_weight_resist['id'], \n",
        "                                             Exp3_df_behaviour['dist_risk']])\n",
        "\n",
        "Exp3_scores_and_lables = pd.DataFrame(Exp3_scores_and_lables, columns = ['Score',\n",
        "                                                                         'Lable', \n",
        "                                                                         'id_score', \n",
        "                                                                         'weightDist', \n",
        "                                                                         #'ResistBayes', \n",
        "                                                                         'id_modeling', \n",
        "                                                                         'behaviour_dist'])"
      ]
    },
    {
      "cell_type": "code",
      "execution_count": null,
      "metadata": {
        "id": "TYlniGfOxv-R"
      },
      "outputs": [],
      "source": [
        "#Exp2_scores_and_lables = Exp2_scores_and_lables.sort_values(by=['id'])\n",
        "Exp3_scores_and_lables['behaviour_dist'] = Exp3_scores_and_lables['behaviour_dist'].astype(float)\n",
        "Exp3_scores_and_lables['behaviour_dist'] = abs(Exp3_scores_and_lables['behaviour_dist'])\n",
        "\n",
        "#scores_and_lables['Lable']\n",
        "Exp3_scores_and_lables['Score'] = Exp3_scores_and_lables['Score'].astype(float)\n",
        "#Exp2_scores_and_lables['ResistBayes'] = Exp2_scores_and_lables['ResistBayes'].astype(float)\n",
        "Exp3_scores_and_lables['weightDist'] = Exp3_scores_and_lables['weightDist'].astype(float)\n",
        "Exp3_scores_and_lables['behaviour_dist'] = Exp3_scores_and_lables['behaviour_dist'].astype(float)\n",
        "Exp3_scores_and_lables['behaviour_dist']  = abs(Exp3_scores_and_lables['behaviour_dist'])"
      ]
    },
    {
      "cell_type": "markdown",
      "metadata": {
        "id": "MRSKa8X5HjAB"
      },
      "source": [
        "3. Conversion of the labels scores into ranked-ordered scores.\n",
        "\n",
        "\n",
        "> - If the individuals' best lable indicated that they beleived to have **not paid attention to otehrs' choices**, we wanted to convert it into a **low weight**. We, therefore substracted the high label from 1 (i.e., the maximum level of accuracy. most of the accuracy labels are around .9)\n",
        "\n",
        "> - If the individuals' best lable indicated that they beleived to **have paid attention to otehrs' choices**, we left the accuracy as **high** as its models accuracy score. \n",
        "\n",
        "> - If the individuals' best lable indicated that they beleived to **have paid attention to otehrs' choices sometimes**, we wanted to convert it into a **mid weight**. We, therefore substracted .5 from their label accuracy as \"sometimes\" is about half of the time. \n",
        "\n",
        "> - If the individuals' best lable indicated that they beleived to **have paid attention to otehrs' choices often**, we wanted to convert it into a **relatively high weight**. We, therefore substracted .2 from their label accuracy as \"often\" is about .8 of the time. \n"
      ]
    },
    {
      "cell_type": "code",
      "execution_count": null,
      "metadata": {
        "id": "tyGUj-JXxKPe"
      },
      "outputs": [],
      "source": [
        "#for i in ind:\n",
        "for i in range(41):\n",
        "  if Exp3_scores_and_lables['Lable'][i] == 'did not care about others' or Exp3_scores_and_lables['Lable'][i] == 'did not care about the majority' or Exp3_scores_and_lables['Lable'][i] == 'did not influence me' or Exp3_scores_and_lables['Lable'][i] == 'did not use the others':\n",
        "     Exp3_scores_and_lables['Score'][i] = 1 - Exp3_scores_and_lables['Score'][i]\n",
        "  if Exp3_scores_and_lables['Lable'][i] == Exp3_scores_and_lables['Lable'][i] == 'sometimes influenced me' or Exp3_scores_and_lables['Lable'][i] == 'sometimes used the others':\n",
        "      Exp3_scores_and_lables['Score'][i] = Exp3_scores_and_lables['Score'][i] - .5\n",
        "  if Exp3_scores_and_lables['Lable'][i] == 'often cared about majority':\n",
        "    Exp3_scores_and_lables['Score'][i] = Exp3_scores_and_lables['Score'][i] - .2"
      ]
    },
    {
      "cell_type": "markdown",
      "metadata": {
        "id": "IN_LfvxaHsjl"
      },
      "source": [
        "Choosing **only the 'super describers'** from the Solo Condition"
      ]
    },
    {
      "cell_type": "code",
      "execution_count": null,
      "metadata": {
        "id": "hWNdMZ7Tv2Wo"
      },
      "outputs": [],
      "source": [
        "Exp3_Q1_super_describers = Exp3_q1_all_sub.index\n",
        "Exp3_scores_and_lables = Exp3_scores_and_lables.loc[Exp3_Q1_super_describers]"
      ]
    },
    {
      "cell_type": "markdown",
      "metadata": {
        "id": "SPo6aiojH7-B"
      },
      "source": [
        "# Combine Data of Super Describers From Both Experiments"
      ]
    },
    {
      "cell_type": "code",
      "execution_count": null,
      "metadata": {
        "id": "LqsLHxXN4UF5"
      },
      "outputs": [],
      "source": [
        "both_data = [Exp3_scores_and_lables, Exp2_scores_and_lables]"
      ]
    },
    {
      "cell_type": "code",
      "execution_count": null,
      "metadata": {
        "id": "0cU9XouM1IAL"
      },
      "outputs": [],
      "source": [
        "df_all_exp = pd.concat(both_data)"
      ]
    },
    {
      "cell_type": "code",
      "execution_count": null,
      "metadata": {
        "id": "HpiNbJysy-mD"
      },
      "outputs": [],
      "source": [
        "df_all_exp.head(n=40)"
      ]
    },
    {
      "cell_type": "code",
      "execution_count": null,
      "metadata": {
        "colab": {
          "base_uri": "https://localhost:8080/"
        },
        "id": "URFXaZ5tNUMT",
        "outputId": "87aadadf-b35d-4a44-f080-4f1e088e8d76"
      },
      "outputs": [
        {
          "data": {
            "text/plain": [
              "39"
            ]
          },
          "execution_count": 75,
          "metadata": {},
          "output_type": "execute_result"
        }
      ],
      "source": [
        "len(df_all_exp['Lable'])"
      ]
    },
    {
      "cell_type": "markdown",
      "metadata": {
        "id": "fGGcDytGIGXt"
      },
      "source": [
        "# Plotting & Statistical Results "
      ]
    },
    {
      "cell_type": "code",
      "execution_count": null,
      "metadata": {
        "colab": {
          "base_uri": "https://localhost:8080/",
          "height": 403
        },
        "id": "VtwiX80gy-uj",
        "outputId": "5afc60c0-da81-4218-b0c0-e9e81b5ea124"
      },
      "outputs": [
        {
          "name": "stdout",
          "output_type": "stream",
          "text": [
            "0.0947\n",
            "0.5662\n"
          ]
        },
        {
          "data": {
            "application/javascript": [
              "\n",
              "    async function download(id, filename, size) {\n",
              "      if (!google.colab.kernel.accessAllowed) {\n",
              "        return;\n",
              "      }\n",
              "      const div = document.createElement('div');\n",
              "      const label = document.createElement('label');\n",
              "      label.textContent = `Downloading \"${filename}\": `;\n",
              "      div.appendChild(label);\n",
              "      const progress = document.createElement('progress');\n",
              "      progress.max = size;\n",
              "      div.appendChild(progress);\n",
              "      document.body.appendChild(div);\n",
              "\n",
              "      const buffers = [];\n",
              "      let downloaded = 0;\n",
              "\n",
              "      const channel = await google.colab.kernel.comms.open(id);\n",
              "      // Send a message to notify the kernel that we're ready.\n",
              "      channel.send({})\n",
              "\n",
              "      for await (const message of channel.messages) {\n",
              "        // Send a message to notify the kernel that we're ready.\n",
              "        channel.send({})\n",
              "        if (message.buffers) {\n",
              "          for (const buffer of message.buffers) {\n",
              "            buffers.push(buffer);\n",
              "            downloaded += buffer.byteLength;\n",
              "            progress.value = downloaded;\n",
              "          }\n",
              "        }\n",
              "      }\n",
              "      const blob = new Blob(buffers, {type: 'application/binary'});\n",
              "      const a = document.createElement('a');\n",
              "      a.href = window.URL.createObjectURL(blob);\n",
              "      a.download = filename;\n",
              "      div.appendChild(a);\n",
              "      a.click();\n",
              "      div.remove();\n",
              "    }\n",
              "  "
            ],
            "text/plain": [
              "<IPython.core.display.Javascript object>"
            ]
          },
          "metadata": {},
          "output_type": "display_data"
        },
        {
          "data": {
            "application/javascript": [
              "download(\"download_3e52b36c-90a7-47ca-9856-ac2c62fc6a95\", \"Full_linearModel.png\", 93814)"
            ],
            "text/plain": [
              "<IPython.core.display.Javascript object>"
            ]
          },
          "metadata": {},
          "output_type": "display_data"
        },
        {
          "data": {
            "image/png": "[encoded data removed]",
            "text/plain": [
              "<Figure size 360x360 with 1 Axes>"
            ]
          },
          "metadata": {},
          "output_type": "display_data"
        }
      ],
      "source": [
        "import matplotlib.pyplot as plt\n",
        "from scipy.stats.stats import pearsonr\n",
        "from google.colab import files\n",
        "\n",
        "\n",
        "\n",
        "#extract correlation coefficient (rounded to 4 decimal places)\n",
        "r_full = round(pearsonr(df_all_exp['Score'], df_all_exp['weightDist'])[0], 4)\n",
        "#r_bayes = round(pearsonr(Exp2_scores_and_lables['Score'], Exp2_scores_and_lables['ResistBayes'])[0], 4)\n",
        "print(r_full)\n",
        "\n",
        "#extract p-value (rounded to 4 decimal places) \n",
        "p_full = round(pearsonr(df_all_exp['Score'], df_all_exp['weightDist'])[1], 4)\n",
        "#p_bayes = round(pearsonr(Exp2_scores_and_lables['Score'], Exp2_scores_and_lables['ResistBayes'])[1], 4)\n",
        "print(p_full) \n",
        "\n",
        "\n",
        "N = len(df_all_exp.index[0:])\n",
        "colors = np.random.rand(N)\n",
        "\n",
        "# plt.scatter(df_all_exp['Score'], df_all_exp['weightDist'], s=110,c=colors, alpha=0.2)\n",
        "# plt.title(\"Experiment 2 \\n Language Model Output & Distance Model Individual Estimate\")\n",
        "# plt.xlabel(\"Strategy Score\")\n",
        "# plt.ylabel(\"Estimated Beta - Distance Model\")\n",
        "# #plt.annotate('correlation = .52 \\n p-value = .022 \\n N = 19', xy=(.3, .1))\n",
        "# # plt.savefig('Exp_2.png',dpi=300)\n",
        "# # files.download(\"Exp_2.png\") \n",
        "# plt.show()\n",
        "\n",
        "\n",
        "import numpy as np, pandas as pd; \n",
        "import seaborn as sns;\n",
        "import matplotlib.pyplot as plt\n",
        "from scipy import stats\n",
        "\n",
        "slope, intercept, r_value, p_value, std_err = stats.linregress(df_all_exp['Score'],df_all_exp['weightDist'])\n",
        "\n",
        "ax = sns.lmplot(data = df_all_exp, x = 'Score', y = 'weightDist', \n",
        "           markers=[\".\"], palette=\"Set1\", x_jitter = .03, line_kws={'label':\"y={0:.1f}x+{1:.1f}\".format(slope,intercept)}) \n",
        "plt.xlabel('Score of Language Label')\n",
        "plt.legend(title='Linear Model Equation', loc='lower right', labels=[\"y={0:.1f}x+{1:.1f}\".format(slope,intercept)])\n",
        "plt.savefig('Full_linearModel.png',dpi=300)\n",
        "files.download(\"Full_linearModel.png\") \n",
        "plt.show(ax)\n"
      ]
    },
    {
      "cell_type": "code",
      "execution_count": null,
      "metadata": {
        "id": "D8YeJyRFy-x9"
      },
      "outputs": [],
      "source": [
        "df_all_sub = df_all_exp[df_all_exp['Score'] - df_all_exp['behaviour_dist'] < .25]"
      ]
    },
    {
      "cell_type": "code",
      "execution_count": null,
      "metadata": {
        "colab": {
          "base_uri": "https://localhost:8080/"
        },
        "id": "dqQ6uc2v1B4r",
        "outputId": "12e95a22-34f8-4d79-cc93-af832cb37b6b"
      },
      "outputs": [
        {
          "data": {
            "text/plain": [
              "21"
            ]
          },
          "execution_count": 74,
          "metadata": {},
          "output_type": "execute_result"
        }
      ],
      "source": [
        "# exracting only those who were super describers from Q1 AND Q2\n",
        "len(df_all_sub['Lable'])"
      ]
    },
    {
      "cell_type": "code",
      "execution_count": null,
      "metadata": {
        "colab": {
          "base_uri": "https://localhost:8080/",
          "height": 403
        },
        "id": "Tj9_tkzJy-1r",
        "outputId": "2e4276be-9dbb-4c0d-abc2-b9fc871a5fdf"
      },
      "outputs": [
        {
          "name": "stdout",
          "output_type": "stream",
          "text": [
            "0.5878\n",
            "0.0051\n"
          ]
        },
        {
          "data": {
            "application/javascript": [
              "\n",
              "    async function download(id, filename, size) {\n",
              "      if (!google.colab.kernel.accessAllowed) {\n",
              "        return;\n",
              "      }\n",
              "      const div = document.createElement('div');\n",
              "      const label = document.createElement('label');\n",
              "      label.textContent = `Downloading \"${filename}\": `;\n",
              "      div.appendChild(label);\n",
              "      const progress = document.createElement('progress');\n",
              "      progress.max = size;\n",
              "      div.appendChild(progress);\n",
              "      document.body.appendChild(div);\n",
              "\n",
              "      const buffers = [];\n",
              "      let downloaded = 0;\n",
              "\n",
              "      const channel = await google.colab.kernel.comms.open(id);\n",
              "      // Send a message to notify the kernel that we're ready.\n",
              "      channel.send({})\n",
              "\n",
              "      for await (const message of channel.messages) {\n",
              "        // Send a message to notify the kernel that we're ready.\n",
              "        channel.send({})\n",
              "        if (message.buffers) {\n",
              "          for (const buffer of message.buffers) {\n",
              "            buffers.push(buffer);\n",
              "            downloaded += buffer.byteLength;\n",
              "            progress.value = downloaded;\n",
              "          }\n",
              "        }\n",
              "      }\n",
              "      const blob = new Blob(buffers, {type: 'application/binary'});\n",
              "      const a = document.createElement('a');\n",
              "      a.href = window.URL.createObjectURL(blob);\n",
              "      a.download = filename;\n",
              "      div.appendChild(a);\n",
              "      a.click();\n",
              "      div.remove();\n",
              "    }\n",
              "  "
            ],
            "text/plain": [
              "<IPython.core.display.Javascript object>"
            ]
          },
          "metadata": {},
          "output_type": "display_data"
        },
        {
          "data": {
            "application/javascript": [
              "download(\"download_bb3b3518-8dd1-4fa6-992e-76213b634ff3\", \"Sub_linearModel.png\", 107619)"
            ],
            "text/plain": [
              "<IPython.core.display.Javascript object>"
            ]
          },
          "metadata": {},
          "output_type": "display_data"
        },
        {
          "data": {
            "image/png": "[encoded data removed]",
            "text/plain": [
              "<Figure size 360x360 with 1 Axes>"
            ]
          },
          "metadata": {},
          "output_type": "display_data"
        }
      ],
      "source": [
        "import matplotlib.pyplot as plt\n",
        "from scipy.stats.stats import pearsonr\n",
        "from google.colab import files\n",
        "from sklearn.linear_model import LogisticRegression\n",
        "from sklearn.metrics import classification_report, confusion_matrix\n",
        "\n",
        "#extract correlation coefficient (rounded to 4 decimal places)\n",
        "r_full = round(pearsonr(df_all_sub['Score'], df_all_sub['weightDist'])[0], 4)\n",
        "#r_bayes = round(pearsonr(Exp2_scores_and_lables['Score'], Exp2_scores_and_lables['ResistBayes'])[0], 4)\n",
        "print(r_full)\n",
        "\n",
        "#extract p-value (rounded to 4 decimal places) \n",
        "p_full = round(pearsonr(df_all_sub['Score'], df_all_sub['weightDist'])[1], 4)\n",
        "#p_bayes = round(pearsonr(Exp2_scores_and_lables['Score'], Exp2_scores_and_lables['ResistBayes'])[1], 4)\n",
        "print(p_full) \n",
        "\n",
        "\n",
        "N = len(df_all_sub.index[0:])\n",
        "colors = np.random.rand(N)\n",
        "\n",
        "# plt.scatter(df_all_sub['Score'], df_all_sub['weightDist'], s=110,c=colors, alpha=0.2)\n",
        "# plt.title(\"Experiment 2 \\n Language Model Output & Distance Model Individual Estimate\")\n",
        "# plt.xlabel(\"Strategy Score\")\n",
        "# plt.ylabel(\"Estimated Beta - Distance Model\")\n",
        "# #plt.annotate('correlation = .52 \\n p-value = .022 \\n N = 19', xy=(.3, .1))\n",
        "# # plt.savefig('Exp_2.png',dpi=300)\n",
        "# # files.download(\"Exp_2.png\") \n",
        "# plt.show()\n",
        "\n",
        "import numpy as np, pandas as pd; \n",
        "import seaborn as sns;\n",
        "import matplotlib.pyplot as plt\n",
        "from scipy import stats\n",
        "\n",
        "slope, intercept, r_value, p_value, std_err = stats.linregress(df_all_sub['Score'],df_all_sub['weightDist'])\n",
        "\n",
        "ax = sns.lmplot(data = df_all_sub, x = 'Score', y = 'weightDist', \n",
        "           markers=[\".\"], palette=\"Set1\", x_jitter = .03, line_kws={'label':\"y={0:.1f}x+{1:.1f}\".format(slope,intercept)}) \n",
        "plt.xlabel('Score of Language Label')\n",
        "plt.legend(title='Linear Model Equation', loc='lower right', labels=[\"y={0:.1f}x+{1:.1f}\".format(slope,intercept)])\n",
        "plt.savefig('Sub_linearModel.png',dpi=300)\n",
        "files.download(\"Sub_linearModel.png\") \n",
        "plt.show(ax)\n",
        "\n",
        "\n"
      ]
    },
    {
      "cell_type": "code",
      "execution_count": null,
      "metadata": {
        "colab": {
          "base_uri": "https://localhost:8080/",
          "height": 403
        },
        "id": "CwsSoo7TNnvz",
        "outputId": "2dbd17fe-9e63-4cbe-a6d9-1cb1d31698ef"
      },
      "outputs": [
        {
          "name": "stdout",
          "output_type": "stream",
          "text": [
            "-0.0488\n",
            "0.8429\n"
          ]
        },
        {
          "data": {
            "application/javascript": [
              "\n",
              "    async function download(id, filename, size) {\n",
              "      if (!google.colab.kernel.accessAllowed) {\n",
              "        return;\n",
              "      }\n",
              "      const div = document.createElement('div');\n",
              "      const label = document.createElement('label');\n",
              "      label.textContent = `Downloading \"${filename}\": `;\n",
              "      div.appendChild(label);\n",
              "      const progress = document.createElement('progress');\n",
              "      progress.max = size;\n",
              "      div.appendChild(progress);\n",
              "      document.body.appendChild(div);\n",
              "\n",
              "      const buffers = [];\n",
              "      let downloaded = 0;\n",
              "\n",
              "      const channel = await google.colab.kernel.comms.open(id);\n",
              "      // Send a message to notify the kernel that we're ready.\n",
              "      channel.send({})\n",
              "\n",
              "      for await (const message of channel.messages) {\n",
              "        // Send a message to notify the kernel that we're ready.\n",
              "        channel.send({})\n",
              "        if (message.buffers) {\n",
              "          for (const buffer of message.buffers) {\n",
              "            buffers.push(buffer);\n",
              "            downloaded += buffer.byteLength;\n",
              "            progress.value = downloaded;\n",
              "          }\n",
              "        }\n",
              "      }\n",
              "      const blob = new Blob(buffers, {type: 'application/binary'});\n",
              "      const a = document.createElement('a');\n",
              "      a.href = window.URL.createObjectURL(blob);\n",
              "      a.download = filename;\n",
              "      div.appendChild(a);\n",
              "      a.click();\n",
              "      div.remove();\n",
              "    }\n",
              "  "
            ],
            "text/plain": [
              "<IPython.core.display.Javascript object>"
            ]
          },
          "metadata": {},
          "output_type": "display_data"
        },
        {
          "data": {
            "application/javascript": [
              "download(\"download_77980fa0-ef57-403f-8e6a-3c965965e15c\", \"NoFiltering_linearModel.png\", 84760)"
            ],
            "text/plain": [
              "<IPython.core.display.Javascript object>"
            ]
          },
          "metadata": {},
          "output_type": "display_data"
        },
        {
          "data": {
            "image/png": "[encoded data removed]",
            "text/plain": [
              "<Figure size 360x360 with 1 Axes>"
            ]
          },
          "metadata": {},
          "output_type": "display_data"
        }
      ],
      "source": [
        "\n",
        "#extract correlation coefficient (rounded to 4 decimal places)\n",
        "exp2_r_fullest = round(pearsonr(Exp2_scores_and_lables['weightDist'], Exp2_scores_and_lables['Score'])[0], 4)\n",
        "#r_bayes = round(pearsonr(Exp2_scores_and_lables['Score'], Exp2_scores_and_lables['ResistBayes'])[0], 4)\n",
        "print(exp2_r_fullest)\n",
        "\n",
        "#extract p-value (rounded to 4 decimal places) \n",
        "exp2_p_fullest = round(pearsonr(Exp2_scores_and_lables['weightDist'], Exp2_scores_and_lables['Score'])[1], 4)\n",
        "#p_bayes = round(pearsonr(Exp2_scores_and_lables['Score'], Exp2_scores_and_lables['ResistBayes'])[1], 4)\n",
        "print(exp2_p_fullest) \n",
        "\n",
        "\n",
        "N = len(Exp2_scores_and_lables.index[0:])\n",
        "colors = np.random.rand(N)\n",
        "\n",
        "slope, intercept, r_value, p_value, std_err = stats.linregress(Exp2_scores_and_lables['Score'],Exp2_scores_and_lables['weightDist'])\n",
        "\n",
        "ax = sns.lmplot(data = Exp2_scores_and_lables, x = 'Score', y = 'weightDist', \n",
        "           markers=[\".\"], palette=\"Set1\", x_jitter = .09, line_kws={'label':\"y={0:.1f}x+{1:.1f}\".format(slope,intercept)}) \n",
        "plt.xlabel('Score of Language Label')\n",
        "plt.legend(title='Linear Model Equation', loc='lower right', labels=[\"y={0:.1f}x+{1:.1f}\".format(slope,intercept)])\n",
        "plt.savefig('NoFiltering_linearModel.png',dpi=300)\n",
        "files.download(\"NoFiltering_linearModel.png\") \n",
        "plt.show(ax)\n"
      ]
    },
    {
      "cell_type": "code",
      "execution_count": null,
      "metadata": {
        "colab": {
          "base_uri": "https://localhost:8080/",
          "height": 403
        },
        "id": "-q0aOMK_PBYa",
        "outputId": "44dc0c9f-95a9-49a8-c5c1-38fc22d4650e"
      },
      "outputs": [
        {
          "name": "stdout",
          "output_type": "stream",
          "text": [
            "0.0245\n",
            "0.9183\n"
          ]
        },
        {
          "data": {
            "image/png": "[encoded data removed]",
            "text/plain": [
              "<Figure size 360x360 with 1 Axes>"
            ]
          },
          "metadata": {},
          "output_type": "display_data"
        }
      ],
      "source": [
        "\n",
        "#extract correlation coefficient (rounded to 4 decimal places)\n",
        "exp3_r_fullest = round(pearsonr(Exp3_scores_and_lables['weightDist'], Exp3_scores_and_lables['Score'])[0], 4)\n",
        "#r_bayes = round(pearsonr(Exp2_scores_and_lables['Score'], Exp2_scores_and_lables['ResistBayes'])[0], 4)\n",
        "print(exp3_r_fullest)\n",
        "\n",
        "#extract p-value (rounded to 4 decimal places) \n",
        "exp3_p_fullest = round(pearsonr(Exp3_scores_and_lables['weightDist'], Exp3_scores_and_lables['Score'])[1], 4)\n",
        "#p_bayes = round(pearsonr(Exp2_scores_and_lables['Score'], Exp2_scores_and_lables['ResistBayes'])[1], 4)\n",
        "print(exp3_p_fullest) \n",
        "\n",
        "\n",
        "N = len(Exp3_scores_and_lables.index[0:])\n",
        "colors = np.random.rand(N)\n",
        "\n",
        "slope, intercept, r_value, p_value, std_err = stats.linregress(Exp3_scores_and_lables['Score'],Exp3_scores_and_lables['weightDist'])\n",
        "\n",
        "ax = sns.lmplot(data = Exp3_scores_and_lables, x = 'Score', y = 'weightDist', \n",
        "           markers=[\".\"], palette=\"Set1\", x_jitter = .09, line_kws={'label':\"y={0:.1f}x+{1:.1f}\".format(slope,intercept)}) \n",
        "plt.xlabel('Score of Language Label')\n",
        "plt.legend(title='Linear Model Equation', loc='lower right', labels=[\"y={0:.1f}x+{1:.1f}\".format(slope,intercept)])\n",
        "plt.show(ax)\n"
      ]
    },
    {
      "cell_type": "markdown",
      "metadata": {
        "id": "AHZIw3X8thUf"
      },
      "source": [
        "---\n",
        "Bayesian Model - & - Text\n",
        "---\n",
        "\n"
      ]
    }
  ],
  "metadata": {
    "accelerator": "GPU",
    "colab": {
      "provenance": [],
      "authorship_tag": "ABX9TyOhWUvm/DjLfB3EZE1luAck",
      "include_colab_link": true
    },
    "gpuClass": "standard",
    "kernelspec": {
      "display_name": "Python 3",
      "name": "python3"
    },
    "language_info": {
      "name": "python"
    }
  },
  "nbformat": 4,
  "nbformat_minor": 0
}